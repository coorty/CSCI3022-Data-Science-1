{
 "cells": [
  {
   "cell_type": "markdown",
   "metadata": {},
   "source": [
    "# Homework 5: Confidence Intervals, the Bootstrap, and Autograders\n",
    "***\n",
    "\n",
    "**Name**: \n",
    "\n",
    "**Section**: (001 or 002)\n",
    "***\n",
    "\n",
    "This assignment is due on Moodle by **5pm on Friday November 10th**. Your solutions to theoretical questions should be done in Markdown/MathJax directly below the associated question.  Your solutions to computational questions should include any specified Python code and results as well as written commentary on your conclusions.  Remember that you are encouraged to discuss the problems with your instructors and classmates, but **you must write all code and solutions on your own**.  For a refresher on the course **Collaboration Policy** click [here](https://github.com/chrisketelsen/csci3022/blob/master/resources/syllabus.md#collaboration-policy).  \n",
    "\n",
    "**NOTES**: \n",
    "\n",
    "- Do **NOT** load or use any Python packages that are not available in Anaconda 3.6. \n",
    "- Some problems with code may be autograded.  If we provide a function API **do not** change it.  If we do not provide a function API then you're free to structure your code however you like. \n",
    "- Because you can technically evaluate notebook cells is a non-linear order, it's a good idea to do Cell $\\rightarrow$ Run All as a check before submitting your solutions.  That way if we need to run your code you will know that it will work as expected. \n",
    "- Submit only this Jupyter notebook to Moodle.  Do not compress it using tar, rar, zip, etc. "
   ]
  },
  {
   "cell_type": "code",
   "execution_count": 1,
   "metadata": {
    "collapsed": true,
    "scrolled": true
   },
   "outputs": [],
   "source": [
    "import numpy as np\n",
    "import scipy\n",
    "from scipy.stats import norm\n",
    "import matplotlib.pylab as plt\n",
    "import pandas as pd\n",
    "%matplotlib inline"
   ]
  },
  {
   "cell_type": "markdown",
   "metadata": {},
   "source": [
    "### [20 points] Problem 1 - Alcohol Content of Red vs White Wine \n",
    "***\n",
    "\n",
    "Load the data in $\\texttt{winequality-red.csv}$ and $\\texttt{winequality-white.csv}$ into Pandas DataFrames.  A description of this dataset can be found on [Berkeley's Machine Learning Repository](https://archive.ics.uci.edu/ml/datasets/Wine+Quality). The characteristic that we'll be interested in is the wine's alcohol content.  "
   ]
  },
  {
   "cell_type": "code",
   "execution_count": 2,
   "metadata": {
    "collapsed": true
   },
   "outputs": [],
   "source": [
    "# Load the two data into pandas dataframes\n",
    "wine_red   = pd.read_csv('winequality-red.csv', sep=';')\n",
    "wine_white = pd.read_csv('winequality-white.csv', sep=';')"
   ]
  },
  {
   "cell_type": "markdown",
   "metadata": {},
   "source": [
    "**Part A**: Are we justified in using the assumptions of the Central Limit Theorem in our analysis of estimates of the mean of the data?  Justify your response. "
   ]
  },
  {
   "cell_type": "code",
   "execution_count": 3,
   "metadata": {},
   "outputs": [
    {
     "name": "stdout",
     "output_type": "stream",
     "text": [
      "Shape of the wine_red is:  (1599, 12)\n",
      "Shape of the wine_white is:  (4898, 12)\n"
     ]
    }
   ],
   "source": [
    "# First, we check the num of samples in `wine_red` and `wine_white`\n",
    "# Shape of the wine red\n",
    "wine_red_shape = wine_red.shape\n",
    "print('Shape of the wine_red is: ', wine_red_shape)\n",
    "\n",
    "# Shape of the wine white\n",
    "wine_white_shape = wine_white.shape\n",
    "print('Shape of the wine_white is: ', wine_white_shape)"
   ]
  },
  {
   "cell_type": "markdown",
   "metadata": {},
   "source": [
    "From above we figure that the number of samples in `wine_red` is 1599, the number of samples in `wine_white` is 4898, from the \"Central limit theorem\" we know that, 当样本的数目≥30时,样本的均值符合正态分布,我们这里样本的数目远远大于30,因此可以使用中心极限定理."
   ]
  },
  {
   "cell_type": "markdown",
   "metadata": {},
   "source": [
    "**Part B**: Compute a 95% confidence interval for the mean of the red wine's alcohol content.  Separately, compute a 95% confidence interval for the mean of the white wine's alcohol content. Do all computations in Python. "
   ]
  },
  {
   "cell_type": "code",
   "execution_count": 4,
   "metadata": {},
   "outputs": [
    {
     "name": "stdout",
     "output_type": "stream",
     "text": [
      "wine_red_CI:  [ 10.37075004  10.47521619]\n",
      "wine_white_CI:  [ 10.47980327  10.54873082]\n"
     ]
    }
   ],
   "source": [
    "def confidence_interval_norm(df, alpha=0.05):\n",
    "    \"\"\" Compute a 95% confidence interval for the mean of the `data`\n",
    "    Input:\n",
    "    ------\n",
    "    df: 用户计算置信度区间的数据\n",
    "    alpha: 置信度\n",
    "    \n",
    "    Result:\n",
    "    -------\n",
    "    CI: data的均值的置信度区间\n",
    "    \"\"\"\n",
    "    mean_val    = df.mean()\n",
    "    std_val     = df.std()\n",
    "    num_samples = len(df)\n",
    "    z_alpha_div_2 = norm.ppf(1 - alpha / 2)\n",
    "    \n",
    "    half_wide = z_alpha_div_2 * std_val / np.sqrt(num_samples)\n",
    "    CI = np.array([mean_val-half_wide, mean_val+half_wide])\n",
    "    \n",
    "    return CI\n",
    "    \n",
    "# CI of the wine red\n",
    "wine_red_CI = confidence_interval_norm(wine_red.alcohol)\n",
    "print('wine_red_CI: ', wine_red_CI)\n",
    "\n",
    "# CI of the wine white\n",
    "wine_white_CI = confidence_interval_norm(wine_white.alcohol)\n",
    "print('wine_white_CI: ', wine_white_CI)"
   ]
  },
  {
   "cell_type": "markdown",
   "metadata": {},
   "source": [
    "**Part C**: Compute the 95% confidence interval for the difference between the means of the alcohol content of red and white wine. "
   ]
  },
  {
   "cell_type": "code",
   "execution_count": 5,
   "metadata": {},
   "outputs": [
    {
     "name": "stdout",
     "output_type": "stream",
     "text": [
      "diff_CI:  [ 0.02870561  0.15386225]\n"
     ]
    }
   ],
   "source": [
    "def confidence_interval_diff(df1, df2, alpha=0.05):\n",
    "    \"\"\" Compute the 95% confidence interval for the difference between the means of df1 and df2\n",
    "    Input:\n",
    "    ------\n",
    "    df1: data 1\n",
    "    df2: data 2\n",
    "    alpha: 置信度\n",
    "    \n",
    "    Result:\n",
    "    -------\n",
    "    CI: df1与df2均值之差的置信度\n",
    "    \"\"\"\n",
    "    mean_val_1 = df1.mean()\n",
    "    mean_val_2 = df2.mean()\n",
    "    mean_diff = mean_val_2 - mean_val_1\n",
    "    \n",
    "    std_val_1  = df1.std()\n",
    "    std_val_2  = df2.std()\n",
    "    \n",
    "    num_samples_1 = len(df1)\n",
    "    num_samples_2 = len(df2)\n",
    "    \n",
    "    z_alpha_div_2 = norm.ppf(1 - alpha / 2)\n",
    "    \n",
    "    half_wide = z_alpha_div_2 * np.sqrt(std_val_1**2/num_samples_1 + std_val_2**2/num_samples_2)\n",
    "    \n",
    "    CI = np.array([mean_diff-half_wide, mean_diff+half_wide])\n",
    "    \n",
    "    return CI\n",
    "\n",
    "# Test\n",
    "diff_CI = confidence_interval_diff(wine_red.alcohol, wine_white.alcohol)\n",
    "print('diff_CI: ', diff_CI)"
   ]
  },
  {
   "cell_type": "markdown",
   "metadata": {},
   "source": [
    "**Part D**: Interpret the confidence interval you computed in **Part C** in one or two sentences.  Can you say that it's likely that there is a difference in mean alcohol content between red and white wine?  "
   ]
  },
  {
   "cell_type": "markdown",
   "metadata": {
    "collapsed": true
   },
   "source": [
    "95%的样本的酒精浓度差异落在[0.028,0.154]之间,因此有理由相信这两种酒酒精含量均值之间存在差异; 白酒的酒精浓度比红酒要高!"
   ]
  },
  {
   "cell_type": "markdown",
   "metadata": {},
   "source": [
    "### [15 points] Problem 2: Election Polling\n",
    "***\n",
    "\n",
    "On the eve of an important senate seat election, a pollster polls a simple random sample of the population and asks which candidate they plan to vote for on the following day. In particular, the pollster asks if the respondents plan to vote for Candidate A, Candidate B, or some other candidate.  The results of the poll can be found in the following table: \n",
    "\n",
    "\\begin{array}{ccc}\n",
    "\\hline \n",
    "\\textrm{Candidate A} & \\textrm{Candidate B} & \\textrm{Other} \\\\\n",
    "\\hline \n",
    "1204 & 1099 & 205  \\\\\n",
    "\\hline \n",
    "\\end{array}\n",
    "\n",
    "**Part A**: Poll results are typically reported as a predicted **percentage** of the electorate plus or minus a margin of error, i.e. $\\texttt{percentage} \\pm \\texttt{margin}$.  Express the poll results for Candidates A and B in the specified format at the 95% confidence level. "
   ]
  },
  {
   "cell_type": "code",
   "execution_count": 6,
   "metadata": {},
   "outputs": [
    {
     "name": "stdout",
     "output_type": "stream",
     "text": [
      "Poll results of candiact A is : 0.480 ±0.020\n",
      "Poll results of candiact B is : 0.438 ±0.019\n"
     ]
    }
   ],
   "source": [
    "# Number of the total samples\n",
    "num_samples = 1204 + 1099 + 205\n",
    "\n",
    "alpha = 0.05\n",
    "z_alpha_div_2 = norm.ppf(1 - alpha / 2)\n",
    "\n",
    "# Test Candiate A\n",
    "p_candiate_A = 1204/num_samples\n",
    "half_wide_A  = z_alpha_div_2 * np.sqrt(p_candiate_A*(1-p_candiate_A)/num_samples)\n",
    "\n",
    "# Test Candiate B\n",
    "p_candiate_B = 1099 / num_samples\n",
    "half_wide_B  = z_alpha_div_2 * np.sqrt(p_candiate_B*(1-p_candiate_B)/num_samples)\n",
    "\n",
    "# Print the results\n",
    "print(\"Poll results of candiact A is : %.3f\"%(p_candiate_A), '±%.3f'%(half_wide_A))\n",
    "print(\"Poll results of candiact B is : %.3f\"%(p_candiate_B), '±%.3f'%(half_wide_B))"
   ]
  },
  {
   "cell_type": "markdown",
   "metadata": {},
   "source": [
    "**Part B**: Express the poll results as 95% confidence intervals.  Based on these results, would it be responsible for a newspaper to definitely call the election for a particular candidate? Clearly justify your response. "
   ]
  },
  {
   "cell_type": "code",
   "execution_count": 7,
   "metadata": {},
   "outputs": [
    {
     "name": "stdout",
     "output_type": "stream",
     "text": [
      "Confidence interval of candiate A is :  [ 0.460511    0.49961659]\n",
      "Confidence interval of candiate B is :  [ 0.41877947  0.45761606]\n"
     ]
    }
   ],
   "source": [
    "# Express confidence intervals\n",
    "candiate_A_CI = np.array([p_candiate_A-half_wide_A, p_candiate_A+half_wide_A])\n",
    "candiate_B_CI = np.array([p_candiate_B-half_wide_B, p_candiate_B+half_wide_B])\n",
    "print('Confidence interval of candiate A is : ', candiate_A_CI)\n",
    "print('Confidence interval of candiate B is : ', candiate_B_CI)"
   ]
  },
  {
   "cell_type": "markdown",
   "metadata": {},
   "source": [
    "**Part C**: In the run-up to the next election, the pollster is designing a poll of a city council race between two relatively unknown candidates.  Without having any prior data, how many respondents does the pollster need responses from to guarantee that she will get at most a 2% margin of error at the 95% confidence level? Be sure to **clearly** justify your reasoning.  \n",
    "\n",
    "**Hint**: Recall that when computing confidence intervals for proportions we use the actual sample proportions to approximate the variance.  How can you get a worst-case scenario estimate of the variance when the sample proportion is not known _a priori_? \n"
   ]
  },
  {
   "cell_type": "markdown",
   "metadata": {
    "collapsed": true
   },
   "source": [
    "我们其实要解的是:\n",
    "$$z_{\\alpha/2}\\sqrt{\\frac{p(1-p)}{n}}\\leq 2\\%$$\n",
    "这里,我们不知道$p$的值到底为多少,但是我们知道概率p的范围肯定在[0, 1]之间, 因此我们可以求得分子部分$p(1-p)$当$p=0.5$时取得最大值,为0.25,因此上式变成:\n",
    "$$z_{\\alpha/2}\\sqrt{\\frac{0.25}{n}}\\leq 2\\%$$\n",
    "已知:\n",
    "$$z_{\\alpha/2}=1.96$$\n",
    "因此有:\n",
    "$$n\\geq \\frac{(1.96)^2*0.25}{(0.02)^2}=2400.99$$\n",
    "因此,n的值取2401"
   ]
  },
  {
   "cell_type": "markdown",
   "metadata": {},
   "source": [
    "### [15 points] Problem 3 - Have Opinions on Marijuana Legalization Changed? \n",
    "***\n",
    "\n",
    "The General Social Survey (GSS) has been collecting demographic, behavioral, and attitudinal information since 1972 to monitor changes within the US and to compare the US to other nations. Support for the legalization of marijuana in the US is shown for 2010 and in 2016 in the following table:\n",
    "\n",
    "\n",
    "\\begin{array}{cccc}\n",
    "\\hline\n",
    "\\textrm{Year} & \\textrm{Favor} & \\textrm{Oppose} & \\textrm{Total} \\\\ \n",
    "\\hline\n",
    "\\textrm{2010} & \\textrm{603} & \\textrm{656} & \\textrm{1259} \\\\\n",
    "\\textrm{2016} & \\textrm{1126} & \\textrm{717} & \\textrm{1843} \\\\\n",
    "\\hline\n",
    "\\end{array}\n",
    "\n",
    "\n",
    "**Part A**: Find a 95% confidence interval for the change in the proportion supporting marijuana legalization from 2010 to 2016. Use Python for all computations and show your work. "
   ]
  },
  {
   "cell_type": "code",
   "execution_count": 8,
   "metadata": {},
   "outputs": [
    {
     "name": "stdout",
     "output_type": "stream",
     "text": [
      "Confidence interval for the change in the proportion supporting marijuana legalization:  [ 0.09655644  0.16746124]\n"
     ]
    }
   ],
   "source": [
    "# number of samples\n",
    "num_samples_1 = 1259  # Year: 2010\n",
    "num_samples_2 = 1843  # Year: 2016\n",
    "\n",
    "# proportion supporting marijuana legalization\n",
    "p1 = 603 / num_samples_1   # Year: 2010\n",
    "p2 = 1126 / num_samples_2  # Year: 2016\n",
    "\n",
    "alpha = 0.05\n",
    "z_alpha_div_2 = norm.ppf(1 - alpha / 2)\n",
    "\n",
    "p_diff = p2 - p1\n",
    "half_width = z_alpha_div_2 * np.sqrt(p1*(1-p1)/num_samples_1 + p2*(1-p2)/num_samples_2)\n",
    "\n",
    "diff_CI = np.array([p_diff-half_width, p_diff+half_width])\n",
    "print('Confidence interval for the change in the proportion supporting marijuana legalization: ', diff_CI)"
   ]
  },
  {
   "cell_type": "markdown",
   "metadata": {},
   "source": [
    "**Part B**: Is it likely that the proportion supporting marijuana legalization changed between 2010 and 2016? Justify your conclusion using the ideas of statistical inference and your results from **Part A**. "
   ]
  },
  {
   "cell_type": "markdown",
   "metadata": {
    "collapsed": true
   },
   "source": [
    "从上面的结果来看,2016年对大麻合法的支持比2010年增高了,两年支持率之差的95%置信区间为[0.097,0.167]."
   ]
  },
  {
   "cell_type": "markdown",
   "metadata": {},
   "source": [
    "### [20 points] Problem 4 - Exploring Confidence Intervals \n",
    "***\n",
    "\n",
    "The so-called [Chi-squared](https://en.wikipedia.org/wiki/Chi-squared_distribution) distribution is important in several statistical tests.  It's also fairly asymmetric, and thus interesting for investigating confidence intervals.  It is implemented in scipy.stats as [chi2](https://docs.scipy.org/doc/scipy-0.19.1/reference/generated/scipy.stats.chi2.html). \n"
   ]
  },
  {
   "cell_type": "code",
   "execution_count": 9,
   "metadata": {
    "collapsed": true
   },
   "outputs": [],
   "source": [
    "from scipy.stats import chi2"
   ]
  },
  {
   "cell_type": "markdown",
   "metadata": {},
   "source": [
    "**Part A**: Complete the following code cell to plot a histogram of realizations from the Chi-squared distribution with parameter $K=3$. "
   ]
  },
  {
   "cell_type": "code",
   "execution_count": 10,
   "metadata": {
    "scrolled": false
   },
   "outputs": [
    {
     "data": {
      "image/png": "[encoded data removed]",
      "text/plain": [
       "<matplotlib.figure.Figure at 0xa1ed518>"
      ]
     },
     "metadata": {},
     "output_type": "display_data"
    }
   ],
   "source": [
    "k = 3 \n",
    "x = chi2.rvs(k, size=10000)\n",
    "fig, ax = plt.subplots(nrows=1, ncols=1, figsize=(12,6))\n",
    "# TODO \n",
    "ax.hist(x,facecolor='yellowgreen',alpha=0.75)\n",
    "plt.show()"
   ]
  },
  {
   "cell_type": "markdown",
   "metadata": {},
   "source": [
    "**Part B**: Look up the mean and variance of the Chi-squared distribution with parameter $k=3$ and report them here. "
   ]
  },
  {
   "cell_type": "markdown",
   "metadata": {
    "collapsed": true
   },
   "source": [
    "当$k=3$(k表示degree of freedom)时,卡方分布的均值为:\n",
    "$$Mean(x)=k=3$$\n",
    "方差为:\n",
    "$$Var(x)=k*2=3*2=6$$"
   ]
  },
  {
   "cell_type": "markdown",
   "metadata": {},
   "source": [
    "**Part C**: In this part you'll write a function to investigate the _coverage properties_ of a confidence interval for the mean of the Chi-squared distribution. Complete the following function to randomly sample $m=500$ sample means with sample size $n=100$ for the Chi-squared distribution with parameter $k=3$.  For each random sample, compute the 95% confidence interval for the mean.  Your function should do two things: \n",
    "\n",
    "1. Report the proportion of confidence intervals that successfully cover the true mean of the distribution \n",
    "2. Make a plot of 50 randomly selected confidence intervals. Overlay the intervals on the line $y=\\mu$ where $\\mu$ is the true mean of the distribution. Color confidence intervals black if they cover the true mean, and red if they don't.  "
   ]
  },
  {
   "cell_type": "code",
   "execution_count": 11,
   "metadata": {
    "scrolled": false
   },
   "outputs": [
    {
     "name": "stdout",
     "output_type": "stream",
     "text": [
      "Proporation is :  0.948\n",
      "-------------------------------\n"
     ]
    },
    {
     "data": {
      "image/png": "[encoded data removed]",
      "text/plain": [
       "<matplotlib.figure.Figure at 0xb5722b0>"
      ]
     },
     "metadata": {},
     "output_type": "display_data"
    }
   ],
   "source": [
    "def CIs_(data, alpha=0.05):\n",
    "    u = data.mean()\n",
    "    n = len(data)\n",
    "    z = norm.ppf(1-alpha/2)\n",
    "    sigma = np.sqrt(6)\n",
    "    half_width = z * sigma / np.sqrt(n)\n",
    "    CI = np.array([u-half_width, u+half_width])\n",
    "    return CI\n",
    "\n",
    "def confidence_intervals(m=500, n=100):\n",
    "    # TODO \n",
    "    k=3\n",
    "    CI = [CIs_(chi2.rvs(k, size=n)) for i in range(m)]\n",
    "    return CI\n",
    "    \n",
    "CIs = confidence_intervals()\n",
    "\n",
    "# Report the proportion of confidence intervals that successfully cover \n",
    "# the true mean of the distribution\n",
    "bool_ = [1 if CIs[i][0] <= 3 <= CIs[i][1] else 0 for i in range(500)]\n",
    "proporation = np.sum(bool_) / 500\n",
    "print('Proporation is : ', proporation)\n",
    "print('-------------------------------')\n",
    "# \n",
    "fig, ax = plt.subplots(nrows=1, ncols=1, figsize=(12,6))\n",
    "ax.plot([1,50],[3,3])\n",
    "index = list(range(500))\n",
    "np.random.shuffle(index)\n",
    "colors = ['r','k']\n",
    "for i, idx in enumerate(index[:50]):\n",
    "    #print(colors[bool_[idx])\n",
    "    ax.plot([i+1,i+1], [CIs[idx][0], CIs[idx][1]], colors[bool_[idx]])\n",
    "plt.show()"
   ]
  },
  {
   "cell_type": "markdown",
   "metadata": {},
   "source": [
    "**Part D**: Does the proportion of confidence intervals that cover the true mean of the distribution agree with the theory described in class?  Justify your conclusion. "
   ]
  },
  {
   "cell_type": "markdown",
   "metadata": {
    "collapsed": true
   },
   "source": [
    "从上面可知,通过采样得到的置信区间覆盖样本分布真实均值的概率为0.95左右,但是又不是完全等于0.95. 我们这里实验次数为500次,随着实验次数的增加,\n",
    "得到的覆盖了将会越来越接近0.95."
   ]
  },
  {
   "cell_type": "markdown",
   "metadata": {},
   "source": [
    "### [20 points] Problem 5 - Bootstrapped Confidence Intervals \n",
    "***\n",
    "\n",
    "An important feature in online advertising is the so-called _dwell time_, or the amount of time that a user spends viewing a particular piece of content. The data in dwell_times.csv contains the dwell times (in minutes) for 500 randomly selected users viewing an article on a website.  \n"
   ]
  },
  {
   "cell_type": "markdown",
   "metadata": {},
   "source": [
    "**Part A**: Read in the data from dwell_times.csv and create a frequency histogram with 20 bins. "
   ]
  },
  {
   "cell_type": "code",
   "execution_count": 12,
   "metadata": {},
   "outputs": [
    {
     "data": {
      "image/png": "[encoded data removed]",
      "text/plain": [
       "<matplotlib.figure.Figure at 0xb5641d0>"
      ]
     },
     "metadata": {},
     "output_type": "display_data"
    }
   ],
   "source": [
    "# Load the data\n",
    "dwell = pd.read_csv('dwell_times.csv')\n",
    "fig, ax = plt.subplots(nrows=1, ncols=1, figsize=(12,6))\n",
    "ax.hist(dwell['dwell time'], bins=20, facecolor='yellowgreen',alpha=0.75)\n",
    "plt.show()"
   ]
  },
  {
   "cell_type": "markdown",
   "metadata": {},
   "source": [
    "**Part B**: Complete the function dwell_mean below to create an empirical bootstrapped confidence interval at the 95% confidence level for the mean dwell time.  Use at least 5000 bootstrap resamples. In addition to returning the confidence interval, your function should also plot a histogram of the bootstrap resample means, along with some graphical representation of the 95% confidence interval. "
   ]
  },
  {
   "cell_type": "code",
   "execution_count": 13,
   "metadata": {},
   "outputs": [
    {
     "data": {
      "image/png": "[encoded data removed]",
      "text/plain": [
       "<matplotlib.figure.Figure at 0xb649d30>"
      ]
     },
     "metadata": {},
     "output_type": "display_data"
    },
    {
     "name": "stdout",
     "output_type": "stream",
     "text": [
      "CI:  [ 8.05081796  8.86422327]\n"
     ]
    }
   ],
   "source": [
    "def dwell_mean(df, num_boots=5000, isPlot=False):\n",
    "    n = len(df)\n",
    "    means = []\n",
    "    for i in range(num_boots):\n",
    "        means.append(np.mean(df.sample(n, replace=True)))\n",
    "    \n",
    "    CI = np.array([np.percentile(means,2.5),np.percentile(means,97.5)])\n",
    "    \n",
    "    if isPlot: \n",
    "        # TODO plot histogram \n",
    "        fig, ax = plt.subplots(nrows=1, ncols=1, figsize=(12,6))\n",
    "        ax.hist(means, bins=20, facecolor='yellowgreen',alpha=0.75)\n",
    "        ax.plot([CI[0],CI[0]], [0,200],'r')\n",
    "        ax.plot([CI[1],CI[1]], [0,200],'r')\n",
    "        plt.show()\n",
    "    \n",
    "    return CI \n",
    "\n",
    "CI = dwell_mean(dwell['dwell time'], isPlot=True)\n",
    "\n",
    "#  plot a histogram of the bootstrap resample means\n",
    "print('CI: ', CI)"
   ]
  },
  {
   "cell_type": "markdown",
   "metadata": {},
   "source": [
    "**Part C**: Suppose you are told that the actual dwell times in dwell_times.csv were sampled from a [LogNormal]() distribution with parameters $\\mu=2$ and $\\sigma^2 = \\frac{1}{4}$. Go to the linked Wiki page and read about the LogNormal distribution.  Then compute the exact **mean**, **median**, and **standard deviation** of the distribution for the given parameters and report them here. "
   ]
  },
  {
   "cell_type": "markdown",
   "metadata": {
    "collapsed": true
   },
   "source": [
    "查阅资料可知,LogNorm分布的样本,均值为:\n",
    "$$Mean(x)=\\exp{(\\mu+\\sigma^2/2)}=8.37$$\n",
    "中值为:\n",
    "$$Median(x)=\\exp{(x)}=7.39$$\n",
    "标准差为:\n",
    "$$SD(x)=\\sqrt{(\\exp{(\\sigma^2)-1)}\\exp{(2\\mu+\\sigma^2}))}=4.46$$"
   ]
  },
  {
   "cell_type": "markdown",
   "metadata": {},
   "source": [
    "**Part D**: Use the true standard deviation of the distribution to compute a traditional 95% confidence interval for the sample mean of the dwell time data.  Compare the traditional 95% confidence interval to the bootstrapped 95% confidence interval. Do both confidence intervals cover the true mean?  Do both confidence intervals have roughly the same width?   "
   ]
  },
  {
   "cell_type": "code",
   "execution_count": 14,
   "metadata": {},
   "outputs": [
    {
     "name": "stdout",
     "output_type": "stream",
     "text": [
      "CI :  [ 8.40131406  8.48896632]\n"
     ]
    }
   ],
   "source": [
    "# \n",
    "n = len(dwell)\n",
    "alpha = 0.05\n",
    "z_alpha_div_2 = norm.ppf(1 - alpha / 2)\n",
    "dwell_mean = np.mean(dwell['dwell time'])\n",
    "std_val = np.sqrt(1/4)\n",
    "half_width = z_alpha_div_2 * std_val / np.sqrt(n)\n",
    "\n",
    "CI = np.array([dwell_mean-half_width, dwell_mean+half_width])\n",
    "print('CI : ', CI)"
   ]
  },
  {
   "cell_type": "markdown",
   "metadata": {
    "collapsed": true
   },
   "source": [
    "采用bootstrap方法得到的置信度区间为: [8.05, 8.85], 覆盖了样本分布真实的均值8.37; 上面直接计算得到的置信度区间为[8.40,8.49],没有覆盖样本\n",
    "真实分布均值8.37."
   ]
  },
  {
   "cell_type": "markdown",
   "metadata": {},
   "source": [
    "**Part E**: Complete the function dwell_stdev below to create an empirical bootstrapped confidence interval at the 95% confidence level for the standard deviation of dwell time.  Use at least 5000 bootstrapped resamples. In addition to returning the confidence interval, your function should also plot a histogram of the bootstrap resample standard deviations including some graphical indication of the 95% confidence interval.  "
   ]
  },
  {
   "cell_type": "code",
   "execution_count": 15,
   "metadata": {},
   "outputs": [
    {
     "data": {
      "image/png": "[encoded data removed]",
      "text/plain": [
       "<matplotlib.figure.Figure at 0xb7f3dd8>"
      ]
     },
     "metadata": {},
     "output_type": "display_data"
    },
    {
     "name": "stdout",
     "output_type": "stream",
     "text": [
      "CI:  [ 4.05260683  5.13505934]\n"
     ]
    }
   ],
   "source": [
    "def dwell_stdev(df, num_boots=5000, isPlot=False):\n",
    "    stdevs = []\n",
    "    for i in range(num_boots):\n",
    "        stdevs.append(np.std(df.sample(n, replace=True)))\n",
    "        \n",
    "    CI = np.array([np.percentile(stdevs,2.5),np.percentile(stdevs,97.5)])\n",
    "    \n",
    "    if isPlot: \n",
    "        # TODO plot histogram \n",
    "        fig, ax = plt.subplots(nrows=1, ncols=1, figsize=(12,6))\n",
    "        ax.hist(stdevs, bins=20, facecolor='yellowgreen',alpha=0.75)\n",
    "        ax.plot([CI[0],CI[0]], [0,200],'r')\n",
    "        ax.plot([CI[1],CI[1]], [0,200],'r')\n",
    "        plt.show()\n",
    "    \n",
    "    return CI\n",
    "        \n",
    "CI = dwell_stdev(dwell['dwell time'], isPlot=True)\n",
    "#  plot a histogram of the bootstrap resample means\n",
    "print('CI: ', CI)"
   ]
  },
  {
   "cell_type": "markdown",
   "metadata": {},
   "source": [
    "**Part F**: Does the true standard deviation of the distribution fall inside your 95% bootstrapped confidence interval? "
   ]
  },
  {
   "cell_type": "markdown",
   "metadata": {
    "collapsed": true
   },
   "source": [
    "上面得到的置信区间为[4.05,5.11],覆盖了真实的分布标准差4.46."
   ]
  },
  {
   "cell_type": "markdown",
   "metadata": {},
   "source": [
    "**Part G**: Complete the function dwell_med below to create an empirical bootstrapped confidence interval at the 95% confidence level for the median dwell time.  Use at least 5000 bootstrap resamples. In addition to returning the confidence interval, your function should also plot a histogram of the bootstrap resample medians including some graphical indication of the 95% confidence interval.  "
   ]
  },
  {
   "cell_type": "code",
   "execution_count": 16,
   "metadata": {},
   "outputs": [
    {
     "data": {
      "image/png": "[encoded data removed]",
      "text/plain": [
       "<matplotlib.figure.Figure at 0xb8e6828>"
      ]
     },
     "metadata": {},
     "output_type": "display_data"
    },
    {
     "name": "stdout",
     "output_type": "stream",
     "text": [
      "CI:  [ 7.05264048  8.03146165]\n"
     ]
    }
   ],
   "source": [
    "def dwell_med(df, num_boots=5000, isPlot=False):\n",
    "    meds = []\n",
    "    for i in range(num_boots):\n",
    "        meds.append(np.median(df.sample(n, replace=True)))\n",
    "        \n",
    "    CI = np.array([np.percentile(meds,2.5),np.percentile(meds,97.5)])\n",
    "    \n",
    "    if isPlot: \n",
    "        # TODO plot histogram \n",
    "        fig, ax = plt.subplots(nrows=1, ncols=1, figsize=(12,6))\n",
    "        ax.hist(meds, bins=20, facecolor='yellowgreen',alpha=0.75)\n",
    "        ax.plot([CI[0],CI[0]], [0,200],'r')\n",
    "        ax.plot([CI[1],CI[1]], [0,200],'r')\n",
    "        plt.show()\n",
    "    \n",
    "    return CI\n",
    "        \n",
    "CI = dwell_med(dwell['dwell time'], isPlot=True)\n",
    "#  plot a histogram of the bootstrap resample means\n",
    "print('CI: ', CI)"
   ]
  },
  {
   "cell_type": "markdown",
   "metadata": {},
   "source": [
    "**Part H**: Does the true median of the distribution fall inside your 95% bootstrapped confidence interval? "
   ]
  },
  {
   "cell_type": "markdown",
   "metadata": {
    "collapsed": true
   },
   "source": [
    "上面得到的置信区间为[7.06,8.03],覆盖了真实样本分布中值7.93."
   ]
  },
  {
   "cell_type": "markdown",
   "metadata": {},
   "source": [
    "### [15 points] Problem 6 - Autograding Simulation Homework \n",
    "***\n",
    "\n",
    "Suppose that you are the grader for an Introduction to Data Science course and your boss has asked you to write an autograder for a homework problem on simulation.  Specifically, students have been asked to write a simulation to estimate the expected number of rolls it will take until doubles are rolled with a pair of fair, six-sided dice (i.e. until both dice show the same value).  The students have been asked to structure their code so that it runs many trials of the experiment and returns the sample mean of the trials, as well as an array containing the result of each individual trial. \n",
    "\n",
    "The solutions submitted by three students in the course are given below. "
   ]
  },
  {
   "cell_type": "code",
   "execution_count": 17,
   "metadata": {
    "collapsed": true
   },
   "outputs": [],
   "source": [
    "def student1(num_trials=5000):\n",
    "    t = np.zeros(num_trials)\n",
    "    for ii in range(num_trials):\n",
    "        ctr = 0\n",
    "        while np.random.choice([1,2,3,4,5,6]) != np.random.choice([1,2,3,4,5,6]):\n",
    "            ctr += 1 \n",
    "        t[ii] = ctr \n",
    "    return np.mean(t), t\n",
    "\n",
    "def student2(num_trials=5000):\n",
    "    t = np.zeros(num_trials)\n",
    "    for ii in range(num_trials):\n",
    "        ctr = 1\n",
    "        while int(6*np.random.uniform(0,1)+1) != int(6*np.random.uniform(0,1)+1):\n",
    "            ctr += 1 \n",
    "        t[ii] = ctr \n",
    "    return np.mean(t), t\n",
    "\n",
    "def student3(num_trials=5000):\n",
    "    t = np.random.exponential(6, size=num_trials)\n",
    "    return np.mean(t), t "
   ]
  },
  {
   "cell_type": "markdown",
   "metadata": {},
   "source": [
    "Now, you landed this job at the last minute, and your probability theory is a little rusty.  Luckily, your boss has given you her solution to the problem which is shown below: "
   ]
  },
  {
   "cell_type": "code",
   "execution_count": 18,
   "metadata": {
    "collapsed": true
   },
   "outputs": [],
   "source": [
    "def prof(num_trials=5000):\n",
    "    t = np.random.geometric(1/6, size=num_trials)\n",
    "    return np.mean(t), t"
   ]
  },
  {
   "cell_type": "markdown",
   "metadata": {},
   "source": [
    "Knowing that your probability theory is rusty, your boss has suggested that your autograder be constructed solely based on confidence intervals to compare the students' estimates of the expected value of the experiment to her own estimate.  Finally, although there are only examples from three students above, there are actually more than 100 students in the course, so tailoring your tests to features of individual students' code is out of the question. \n",
    "\n",
    "**Part A**: Complete the function autograder below, which takes in the realizations of the trials from your professor's code and one of the students' codes, as well as the $\\alpha$ for a $100(1-\\alpha)\\%$ confidence interval and returns a string indicating whether the student passed or failed the test. **Clearly** indicate what statistical test(s) your autograder is using and why this is a good idea.  Then demonstrate the use of your autograder to grade the three student solutions above based on a 95% confidence level. "
   ]
  },
  {
   "cell_type": "code",
   "execution_count": 19,
   "metadata": {},
   "outputs": [
    {
     "name": "stdout",
     "output_type": "stream",
     "text": [
      "Test student 1 ... \n",
      "Failed\n",
      "Test student 2 ... \n",
      "Passed\n",
      "Test student 3 ... \n",
      "Passed\n"
     ]
    }
   ],
   "source": [
    "def autograder(pf, st, alpha=0.05):\n",
    "    # TODO \n",
    "    pf_mean, pf_t = pf()\n",
    "    st_mean, st_t = st()\n",
    "    \n",
    "    z_alpha_div_2 = norm.ppf(1 - alpha / 2)\n",
    "    std_val = pf_t.std()\n",
    "    \n",
    "    half_width = z_alpha_div_2 * std_val / np.sqrt(len(pf_t))\n",
    "    CI = np.array([pf_mean-half_width, pf_mean+half_width])\n",
    "    \n",
    "    if CI[0] <= st_mean <= CI[1]:\n",
    "        return \"Passed\"\n",
    "    else:\n",
    "        return \"Failed\"\n",
    "    \n",
    "# Test student 1\n",
    "print('Test student 1 ... ')\n",
    "print(autograder(prof, student1))\n",
    "\n",
    "# Test student 2\n",
    "print('Test student 2 ... ')\n",
    "print(autograder(prof, student2))\n",
    "\n",
    "# Test student 3\n",
    "print('Test student 3 ... ')\n",
    "print(autograder(prof, student3))"
   ]
  },
  {
   "cell_type": "markdown",
   "metadata": {},
   "source": [
    "**[Extra Credit] Part B**: You realize that tests based solely on the estimate of the mean are not robust.  Come up with a better autograder that, again using tests based on confidence intervals, compares the students' solutions to the professor's solutions on statistical properties beyond just the mean. Again, **clearly** motivate the features of your autograder based on theory developed in class.    "
   ]
  },
  {
   "cell_type": "code",
   "execution_count": null,
   "metadata": {
    "collapsed": true
   },
   "outputs": [],
   "source": []
  }
 ],
 "metadata": {
  "kernelspec": {
   "display_name": "Python 3",
   "language": "python",
   "name": "python3"
  },
  "language_info": {
   "codemirror_mode": {
    "name": "ipython",
    "version": 3
   },
   "file_extension": ".py",
   "mimetype": "text/x-python",
   "name": "python",
   "nbconvert_exporter": "python",
   "pygments_lexer": "ipython3",
   "version": "3.6.1"
  }
 },
 "nbformat": 4,
 "nbformat_minor": 2
}
