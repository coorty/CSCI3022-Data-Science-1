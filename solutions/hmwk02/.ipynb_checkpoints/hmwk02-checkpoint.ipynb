{
 "cells": [
  {
   "cell_type": "markdown",
   "metadata": {},
   "source": [
    "# Homework 2: Introduction to Probability and Simulation \n",
    "***\n",
    "\n",
    "**Name**: \n",
    "\n",
    "**Section**: (001 or 002)\n",
    "***\n",
    "\n",
    "This assignment is due on Moodle by **5pm on Friday September 29th**. Your solutions to theoretical questions should be done in Markdown/MathJax directly below the associated question.  Your solutions to computational questions should include any specified Python code and results as well as written commentary on your conclusions.  Remember that you are encouraged to discuss the problems with your instructors and classmates, but **you must write all code and solutions on your own**.  For a refresher on the course **Collaboration Policy** click [here](https://github.com/chrisketelsen/csci3022/blob/master/resources/syllabus.md#collaboration-policy).  \n",
    "\n",
    "**NOTES**: \n",
    "\n",
    "- Some problems with code may be autograded.  If we provide a function API please do not change it.  If we do not provide a function API then you're free to structure your code however you like. \n",
    "- It is **bad form** to make your reader interpret numerical output from your code.  If a question asks you to compute some value from the data you should show your code output **AND** write a summary of the results in Markdown directly below your code.\n",
    "- Because you can technically evaluate notebook cells is a non-linear order, it's a good idea to do Cell $\\rightarrow$ Run All as a check before submitting your solutions.  That way if we need to run your code you will know that it will work as expected. \n",
    "- Submit only this Jupyter notebook to Moodle.  Do not compress it using tar, rar, zip, etc. "
   ]
  },
  {
   "cell_type": "code",
   "execution_count": null,
   "metadata": {
    "collapsed": true,
    "scrolled": true
   },
   "outputs": [],
   "source": [
    "import pandas as pd\n",
    "import numpy as np\n",
    "import matplotlib.pylab as plt\n",
    "%matplotlib inline"
   ]
  },
  {
   "cell_type": "markdown",
   "metadata": {},
   "source": [
    "### [20 points] Problem 1 \n",
    "***\n",
    "\n",
    "In a box there are 99 fair coins and 1 double-headed coin.  You grab one coin at random.  \n",
    "\n",
    "Work the following problems by hand (but don't be afraid to simulate to check your result!). \n"
   ]
  },
  {
   "cell_type": "markdown",
   "metadata": {},
   "source": [
    "**Part A**: You toss your coin one time.  What is the probability that you toss a Heads? "
   ]
  },
  {
   "cell_type": "markdown",
   "metadata": {},
   "source": [
    "**Answers:** \n",
    "\n",
    "The probability of taking a fair coin is : $$P_1 = \\frac{99}{100}$$\n",
    "The probability of taking a double-headed coin is : $$P_1 = \\frac{1}{100}$$\n",
    "The probability of tossing a Heads is: $$ P=P_1*\\frac{1}{2}+P_2*1= \\frac{99}{100}*\\frac{1}{2}+\\frac{1}{100}*1=0.505$$"
   ]
  },
  {
   "cell_type": "markdown",
   "metadata": {},
   "source": [
    "**Part B**: Suppose you toss a Heads.  What is the probability that the coin you chose from the box is double-sided? "
   ]
  },
  {
   "cell_type": "markdown",
   "metadata": {},
   "source": [
    "A表示投掷一枚硬币得到Heads朝上;\n",
    "B1表示这枚硬币是fair coin;\n",
    "B2表示这枚硬币是Double-Headed coin;\n",
    "计算A的全概率公式如下:"
   ]
  },
  {
   "cell_type": "markdown",
   "metadata": {},
   "source": [
    "$$P(A)=P(A|B_1)P(B_1)+P(A|B_2)P(B_2)$$\n",
    "$$P(A|B_1)P(B_1)=\\frac{1}{2}*\\frac{99}{100}=\\frac{99}{200}$$\n",
    "$$P(A|B_2)P(B_2)=1*\\frac{1}{100}=\\frac{1}{100}$$\n",
    "$$\\frac{P(A|B_2)P(B_2)}{P(A|B_1)P(B_1)+P(A|B_2)P(B_2)}=\\frac{\\frac{1}{100}}{\\frac{99}{200}+\\frac{1}{100}}=\\frac{2}{101}$$"
   ]
  },
  {
   "cell_type": "markdown",
   "metadata": {},
   "source": [
    "**Part C**: Suppose you flip your coin $n$ times and record each outcome.  Obviously, if you flip Tails you know you picked a fair coin. But, if you flipped $n$ Heads in a row you would have a stronger belief that you in fact grabbed the double-headed coin.  What is the smallest value of $n$ Heads in a row that would make you believe that there's a better-than-half chance that the coin you grabbed is double-headed?  "
   ]
  },
  {
   "cell_type": "markdown",
   "metadata": {},
   "source": [
    "设$T_1$表示抛硬币1次,结果为Head,此硬币是fair coin;设$S_1$表示抛硬币第1次,结果为Head,此硬币是Double-Heades coin;\n",
    "\n",
    "设$T_2$表示抛硬币第2次,结果为Head,此硬币是fair coin;设$S_2$表示抛硬币第2次,结果为Head,此硬币是Double-Heades coin;\n",
    "\n",
    "......\n",
    "\n",
    "设$T_n$表示抛硬币第n次,结果为Head,此硬币是fair coin;设$S_n$表示抛硬币第n次,结果为Head,此硬币是Double-Heades coin;\n",
    "\n",
    "$$P(T_1)=\\frac{99}{101}; P(S_1)=\\frac{2}{101}$$\n",
    "$$P(T_2)=P(T_1)*\\frac{1}{2}; P(S_2)=P(S_1)$$ \n",
    "$$......$$ \n",
    "$$P(T_n)=P(T_{n-1})*\\frac{1}{2}; P(S_n)=P(S_1)$$\n",
    "\n",
    "设抛了n次head,此硬币为Double-heades: 记为D\n",
    "$$P(D) = \\frac{P(S_n)}{P(S_n)+P(T_n)}=\\frac{\\frac{2}{101}}{\\frac{99}{101}*(\\frac{1}{2})^{n-1}+\\frac{2}{101}}$$ \n",
    "\n",
    "求:\n",
    "$$P(D)=0.5$$\n",
    "得到:\n",
    "$$2^n=99$$\n",
    "有\n",
    "$$n=\\frac{log(99)}{log(2)}\\approx 7$$"
   ]
  },
  {
   "cell_type": "markdown",
   "metadata": {},
   "source": [
    "### [20 points] Problem 2  \n",
    "***\n",
    "\n",
    "In soccer tournaments, [penalty shootouts](https://en.wikipedia.org/wiki/Penalty_shoot-out_(association_football) are used to determine the outcome of the game if the score is tied after regulation play.   In a penalty shootout, each team takes turns attempting 5 shots on the goal from the penalty mark that are defended only by the opposing team's goalkeeper, with the team that makes more successful kicks being declared the winner of the match.  If after 5 shots the score is still tied, the game enters _sudden death_ and the teams continue to take 1 shot each until one team scores and the other does not. \n",
    "\n",
    "Suppose that two teams ( Team $A$ and Team $B~$) are still tied at the end of the first round of 5 penalty shots and are entering sudden death.  Each team will now take one shot each in an attempt to win.  Suppose that the result of one shot is independent of the other shots, Team $A$ makes their shot with probability $p$, and Team $B$ makes their shot with probability $q$.  Let $W$ be the event that \"Team $A$ wins the game\", $E$ be the event that \"the game ends after the first round of sudden death penalty shots\", and $T$ be the event that \"the game is still tied after the first round of sudden death penalty shots\". \n",
    "\n",
    "**Part A**: The shootout continues until Team $A$ or Team $B$ wins.  What is the sample space $\\Omega$ for this experiment?  Represent the outcomes of individual shots by $G$ for a goal and $M$ for a miss and assume that Team $A$ shoots before Team $B$."
   ]
  },
  {
   "cell_type": "markdown",
   "metadata": {},
   "source": [
    "$\\Omega={(G,M),(G,G),(M,G),(M,M),(G,G,G,M),(G,G,G,G),(G,G,M,G),(G,G,M,M),(M,M,G,M),(M,M,G,G),(M,M,M,G),(M,M,M,M),\\cdots}$ "
   ]
  },
  {
   "cell_type": "markdown",
   "metadata": {},
   "source": [
    "**Part B**: Determine $P(W \\mid E)$ in terms of $p$ and $q$."
   ]
  },
  {
   "cell_type": "markdown",
   "metadata": {},
   "source": [
    "**Solutions**\n",
    "$$P(W \\mid E) = \\frac{p(1-q)}{p(1-q)+(1-p)q}$$"
   ]
  },
  {
   "cell_type": "markdown",
   "metadata": {},
   "source": [
    "**Part C**: Explain why events $W$ and $T$ are independent. "
   ]
  },
  {
   "cell_type": "markdown",
   "metadata": {},
   "source": [
    "根据全概率公式可知:\n",
    "$$P(W)=P(W|E)P(E)+P(W|T)P(T)=\\frac{P(E|W)P(W)}{P(E)}P(E)+\\frac{P(T|W)P(W)}{P(T)}P(T)$$\n",
    "$$=P(W)[P(E|W)+P(T|W)]$$\n",
    "因此有:\n",
    "$$P(E|W)+P(T|W)=1$$\n",
    "而\n",
    "$$P(E)+P(T)=1$$\n",
    "因此最后可以得出结论: W与E相互独立,W与T相互独立"
   ]
  },
  {
   "cell_type": "markdown",
   "metadata": {},
   "source": [
    "**Part D**: Use the Law of Total Probability to show that $P(W) = p(1-q) + (2pq - p - q +1) ~P(W \\mid T)$. "
   ]
  },
  {
   "cell_type": "markdown",
   "metadata": {},
   "source": [
    "**solution**\n",
    "\n",
    "由题目可知,设事件$E$为第一轮决出了胜负比赛,$T$表示第一轮未决出胜负,进入剩下轮的比赛,根据全概率公式有：\n",
    "$$P(W)=P(W|E)P(E)+P(W|T)P(T)$$\n",
    "其中,$P(W|E)$在Part B中已经计算了出来,$P(E)$计算时分两种情况:{A踢进了,B没踢进},{A没踢进,B踢进了}.最后得到$$P(E)=p(1-q)+(1-p)q$$. 计算$P(T)$时也要分成两种情况:{A踢进了,B踢进了},{A没踢进,B没踢进},这样,总概率为:\n",
    "$$P(T)=pq+(1-p)(1-q)=2pq-q-p+1$$\n",
    "因此,最后有\n",
    "$$P(W)=P(W|T_0)P(T_0)+P(W|T)P(T)=p(1-q)+(2pq-q-p+1)P(W|T)$$"
   ]
  },
  {
   "cell_type": "markdown",
   "metadata": {},
   "source": [
    "**Part E**: Use the fact from **Part B** that $P(W \\mid T) = P(W)$ to determine $P(W)$ in terms of $p$ and $q$. "
   ]
  },
  {
   "cell_type": "markdown",
   "metadata": {},
   "source": [
    "由于$P(W \\mid T) = P(W)$,因此**Part D**中的式子可以变换成:\n",
    "$$P(W)=p(1-q)+(2pq-q-p+1)P(W)$$\n",
    "则有:\n",
    "$$P(W)(2pq-p-q)=p(q-1)$$\n",
    "因此:\n",
    "$$P(W)=\\frac{p(q-1)}{2pq-p-q}$$"
   ]
  },
  {
   "cell_type": "markdown",
   "metadata": {},
   "source": [
    "**Part F**: Explain why the answers to **Part B** and **Part E** are the same. "
   ]
  },
  {
   "cell_type": "code",
   "execution_count": null,
   "metadata": {
    "collapsed": true
   },
   "outputs": [],
   "source": []
  },
  {
   "cell_type": "markdown",
   "metadata": {},
   "source": [
    "**Part G**: Explain the significance of the solution technique for $P(W)$ outlined in **Part D** and **Part E**.  Why did we go this route instead of computing $P(W)$ directly?  Can we always use such techniques?  "
   ]
  },
  {
   "cell_type": "markdown",
   "metadata": {},
   "source": []
  },
  {
   "cell_type": "markdown",
   "metadata": {},
   "source": [
    "### [25 points] Problem 3 \n",
    "***\n",
    "\n",
    "After Intro. Data Science lets out for the day, there are a bunch of different locations that Dan and Chris individually end up at.  Sometimes they go get dinner at the UMC ($~U~$) or coffee at Starbucks ($~S~$). Sometimes they go straight to their vehicles in the parking lot ($~P~$) and head home.  And sometimes they go back to their respective offices in the Engineering Center ($~E~$) or Fleming ($~F~$) to work. You can see the locations and paths that they take from Muenzinger ($~M~$) and between other locations on the linked [map](https://www.cs.colorado.edu/~ketelsen/files/courses/csci3022/hmwk/hmwk02/campus_map.pdf).\n",
    "\n",
    "Now, on a Wednesday after a particularly grueling start to the week, Dan and Chris leave class at Muenzinger in a bit of a daze and just sorta wander randomly between their usual haunts.  Their movement is governed by the following rule: when leaving a particular location, they randomly select one of the available paths to travel along (again, see the [map](https://www.cs.colorado.edu/~ketelsen/files/courses/csci3022/hmwk/hmwk02/campus_map.pdf)) with equal probability. "
   ]
  },
  {
   "cell_type": "markdown",
   "metadata": {},
   "source": [
    "**Part A**: Compute (by hand) the probability that Chris ends up at the Engineering Center after first visiting one other location after leaving Muenzinger. "
   ]
  },
  {
   "cell_type": "markdown",
   "metadata": {
    "collapsed": true
   },
   "source": [
    "有两条可能得走法: W1: M->P->E 或者W2: M->U->E\n",
    "$$P(W_1)=\\frac{1}{4}*\\frac{1}{2}=\\frac{1}{8}$$\n",
    "$$P(W_2)=\\frac{1}{4}*\\frac{1}{4}=\\frac{1}{16}$$\n",
    "因此,最后的概率为\n",
    "$$P=P(W_1)+P(W_2)=\\frac{3}{16}$$"
   ]
  },
  {
   "cell_type": "markdown",
   "metadata": {},
   "source": [
    "**Part B**: Compute (by hand) the probability that Dan ends up at the UMC _either_ as his first _or_ second location visited after leaving Muenzinger. "
   ]
  },
  {
   "cell_type": "markdown",
   "metadata": {
    "collapsed": true
   },
   "source": [
    "设T1为Dan离开Muenzinger后到达的第一个地点是UMC;设T1为Dan离开Muenzinger后到达的第二个地点是UMC;\n",
    "则: \n",
    "$$P(T_1)=\\frac{1}{4}$$\n",
    "$$P(T_2)=\\frac{1}{3}*\\frac{1}{2}=\\frac{3}{16}$$\n",
    "$$P(T)=P(T_1)+P(T_2)=\\frac{7}{16}$$"
   ]
  },
  {
   "cell_type": "markdown",
   "metadata": {},
   "source": [
    "**Part C**: Suppose that Chris goes back to his office in the Engineering Center and Dan goes back to his office in Fleming.  Later that night they both leave their offices and wander around. You should assume that they take the same amount of time to go from location to location.  What is the probability that they run into each other in the same location on their second location visited? "
   ]
  },
  {
   "cell_type": "markdown",
   "metadata": {
    "collapsed": true
   },
   "source": [
    "第1种情况: S1: Dan的路线: F->E->F; Chris的路线: E->U->F\n",
    "$$P(S_1)=(\\frac{1}{2}*\\frac{1}{4})*(\\frac{1}{4}*\\frac{1}{4})=\\frac{1}{128}$$\n",
    "第2种情况: S2: Dan的路线: F->U->E; Chris的路线: E->P->E,E->F->E\n",
    "$$P(S_2)=(\\frac{1}{2}*\\frac{1}{4})*(\\frac{1}{4}*\\frac{1}{2}+\\frac{1}{4}*\\frac{1}{2})=\\frac{1}{32}$$\n",
    "第3种情况: S3: Dan的路线: F->U->M; Chris的路线: E->P->M\n",
    "$$P(S_3)=(\\frac{1}{2}*\\frac{1}{4})*(\\frac{1}{4}*\\frac{1}{2})=\\frac{1}{64}$$\n",
    "第4种情况: S4: Dan的路线: F->E->U; Chris的路线: E->F->U\n",
    "$$P(S_4)=(\\frac{1}{2}*\\frac{1}{4})*(\\frac{1}{4}*\\frac{1}{2})=\\frac{1}{64}$$\n",
    "则总概率:\n",
    "$$P(S)=P(S_1)+P(S_2)+P(S_3)+P(S_4)=\\frac{9}{128}$$"
   ]
  },
  {
   "cell_type": "markdown",
   "metadata": {},
   "source": [
    "**Part D**: Write a simulation to confirm that your by-hand calculations in **Part A**, **Part B**, and **Part C** are correct. Make sure you run your simulations for enough trials that your estimates are reasonably close to your analytic results. In addition to showing your code, you should thoroughly explain in Markdown (not just in code comments) what your code is doing and why it is a reasonable approximation of the probabilities in **Part A**, **Part B**, and **Part C**.  "
   ]
  },
  {
   "cell_type": "markdown",
   "metadata": {},
   "source": [
    "**Examine Part A: **"
   ]
  },
  {
   "cell_type": "code",
   "execution_count": null,
   "metadata": {
    "collapsed": true
   },
   "outputs": [],
   "source": [
    "path = {'S':['M','U'], 'M':['S','U','E','P'], 'P':['M','E'],\n",
    "        'E':['P','M','U','F'], 'F':['E','U'], 'U':['S','M','E','F']}\n",
    "\n",
    "def get_next_place(place_list):\n",
    "    # 随机生成要去的第一个城市的索引\n",
    "    idx_next_place = np.random.randint(len(place_list))\n",
    "    return place_list[idx_next_place]"
   ]
  },
  {
   "cell_type": "code",
   "execution_count": null,
   "metadata": {},
   "outputs": [],
   "source": [
    "visit_len  = 2  # The second arrived place\n",
    "exper_times = 20000  # repetition times\n",
    "num_arrive_E = 0  # Record times of arriving 'E'\n",
    "next_place = 'M'  # Start from 'M'\n",
    "for i in range(exper_times):\n",
    "    for j in range(visit_len):\n",
    "        place_list = path[next_place]\n",
    "        next_place = get_next_place(place_list)\n",
    "        \n",
    "    if next_place == 'E':\n",
    "        num_arrive_E += 1\n",
    "        \n",
    "P = num_arrive_E / exper_times\n",
    "print('The probability that Chris ends up at the Engineering Center after first visiting one other location after leaving Muenzinger:'+str(P))"
   ]
  },
  {
   "cell_type": "markdown",
   "metadata": {},
   "source": [
    "**Examine Part B**"
   ]
  },
  {
   "cell_type": "code",
   "execution_count": null,
   "metadata": {},
   "outputs": [],
   "source": [
    "visit_len  = 2  # The second arrived place\n",
    "exper_times = 20000  # repetition times\n",
    "num_arrive_U = 0  # Record times of arriving 'U'\n",
    "next_place = 'M'  # Start from 'M'\n",
    "for i in range(exper_times):\n",
    "    visit_places = []\n",
    "    for j in range(visit_len):\n",
    "        place_list = path[next_place]\n",
    "        next_place = get_next_place(place_list)\n",
    "        visit_places.append(next_place)\n",
    "        \n",
    "    if 'U' in visit_places:\n",
    "        num_arrive_U += 1\n",
    "        \n",
    "P = num_arrive_U / exper_times\n",
    "print('The probability that Dan ends up at the UMC either as his first or second location visited after leaving Muenzinger:'+str(P))"
   ]
  },
  {
   "cell_type": "markdown",
   "metadata": {},
   "source": [
    "**Examine Part C**"
   ]
  },
  {
   "cell_type": "code",
   "execution_count": null,
   "metadata": {},
   "outputs": [],
   "source": [
    "visit_len  = 2  # The second arrived place\n",
    "exper_times = 20000  # repetition times\n",
    "num_meet = 0  # Record times of meeting\n",
    "\n",
    "Dan_next_place   = 'F'  # Dan start from 'F'\n",
    "Chris_next_place = 'E'  # Chris start from 'E'\n",
    "\n",
    "for i in range(exper_times):\n",
    "    Dan_visit_places = []\n",
    "    Chris_visit_places = []\n",
    "    for j in range(visit_len):\n",
    "        Dan_place_list = path[Dan_next_place]\n",
    "        Dan_next_place = get_next_place(Dan_place_list)\n",
    "        Dan_visit_places.append(Dan_next_place)\n",
    "        \n",
    "        Chris_place_list = path[Chris_next_place]\n",
    "        Chris_next_place = get_next_place(Chris_place_list)\n",
    "        Chris_visit_places.append(Chris_next_place)\n",
    "        \n",
    "    if (Dan_visit_places[0] != Chris_visit_places[0]) & (Dan_visit_places[1] == Chris_visit_places[1]):\n",
    "        num_meet += 1       \n",
    "        \n",
    "P = num_meet / exper_times\n",
    "print('The probability that they run into each other in the same location on their second location visited is: '+str(P))"
   ]
  },
  {
   "cell_type": "markdown",
   "metadata": {},
   "source": [
    "### [20 points] Problem 4 \n",
    "***\n",
    "\n",
    "In this problem you will write some code to simulate the game of **Miniopoly** (a very rough approximation of [Monopoly](https://en.wikipedia.org/wiki/Monopoly_(game)).  The game consists of a round board with 40 \"squares\" numbered from $0$ to $40$, where squares $0$ and $40$ are [coincident](https://en.wikipedia.org/wiki/Coincident) and called **GO**.  A player starts on **GO** with \\$200 in their pocket.  On each turn the player rolls a pair of dice and then moves a number of spaces equal to the sum of the dice.  Landing on different squares have different results: \n",
    "\n",
    "- Squares 2, 7, 17, 22, 33, and 36 cause you to draw a card.  The cards tell you to collect \\$50, \\$100, or \\$200, or pay the bank \\$100 or \\$150.  \n",
    "\n",
    "<p> </p>\n",
    "\n",
    "- Squares 0, 10, and 20 do not trigger any action \n",
    "\n",
    "<p> </p>\n",
    "\n",
    "- Square 30 is **Go To Jail**, which sends the player directly to **Jail** and ends the turn \n",
    "\n",
    "<p> </p>\n",
    "\n",
    "- If a player starts a turn from **Jail** she rolls two dice: \n",
    "\n",
    "    - If the player rolls doubles (i.e. the dice have equal values) the player moves from Square 10 a number of squares equal to the sum of the dice\n",
    "    \n",
    "    - If the player rolls anything other than doubles she pays the bank \\$10 and remains in **Jail** \n",
    "    \n",
    "<p> </p>\n",
    "\n",
    "- If the player passes or lands on **GO** she collects \\$200. \n",
    "\n",
    "<p> </p>\n",
    "\n",
    "- If the player lands on any other square not mentioned above, she pays the bank an amount equal to the square's number (e.g. if she lands on Square 29 she pays the bank \\$29). \n",
    "\n",
    "<p> </p>\n",
    "\n",
    "If at any point the player has \\$0 or less they go bankrupt and the game ends. \n",
    "\n",
    "<br>\n",
    "\n",
    "**Part A**: Complete the function miniopoly_turn below. The function should simulate one turn of Miniopoly.  It should take as arguments the player's current location on the board as well as the player's current cash reserves, and return the player's new location and cash reserves after the turn has completed. Note that if a player goes bankrupt during the game you should return their cash as 0 instead of a negative value.  "
   ]
  },
  {
   "cell_type": "code",
   "execution_count": null,
   "metadata": {
    "collapsed": true,
    "scrolled": true
   },
   "outputs": [],
   "source": [
    "def miniopoly_turn(state, cash):\n",
    "    coll_pay = [50,-100,100,-150,200] \n",
    "\n",
    "    # 先判断这个人是不是在监狱中\n",
    "    if state == 30:\n",
    "        # 投掷两枚dice\n",
    "        dice1 = np.random.randint(1,7)\n",
    "        dice2 = np.random.randint(1,7)\n",
    "        \n",
    "        if dice1 == dice2:\n",
    "            state = 10 + dice1 + dice2\n",
    "        else:\n",
    "            cash -= 10\n",
    "    else:\n",
    "        state += np.random.randint(2,13)   # 正常掷两枚dice,得到新状态\n",
    "        if state >= 40: # 如果新状态过了GO或者落在了GO\n",
    "            state -= 40\n",
    "            cash += 200\n",
    "        \n",
    "        #### 看一下新状态有没有触发动作\n",
    "        # 第一种情况\n",
    "        if state in [2,7,17,22,33,36]:\n",
    "            cash += coll_pay[np.random.randint(0,5)]\n",
    "            \n",
    "        if state not in [2,7,17,22,33,36,0,10,20,30]:\n",
    "            cash -= state\n",
    "    \n",
    "    if cash <= 0:  # 判断是否破产了\n",
    "        cash = 0\n",
    "         \n",
    "    return state, cash "
   ]
  },
  {
   "cell_type": "markdown",
   "metadata": {},
   "source": [
    "**Part B**: Use your function from **Part A** to Simulate at least 5000 30-turn games of Miniopoly and make a frequency histogram of the player's cash at the end of the game. "
   ]
  },
  {
   "cell_type": "code",
   "execution_count": null,
   "metadata": {},
   "outputs": [],
   "source": [
    "cashs = []\n",
    "for i in range(5000):\n",
    "    state, cash = 0, 200\n",
    "    for j in range(30):\n",
    "        state, cash = miniopoly_turn(state, cash)\n",
    "        if cash == 0:\n",
    "            continue\n",
    "            \n",
    "    cashs.append(cash)\n",
    "\n",
    "# hist\n",
    "plt.figure()\n",
    "plt.hist(cashs, 200)\n",
    "plt.show()"
   ]
  },
  {
   "cell_type": "markdown",
   "metadata": {},
   "source": [
    "**Part C**: Use your code from **Part A** to estimate the probability that a player goes bankrupt in the first 30 turns of the game. "
   ]
  },
  {
   "cell_type": "code",
   "execution_count": null,
   "metadata": {},
   "outputs": [],
   "source": [
    "cashs = []\n",
    "for i in range(5000):\n",
    "    state, cash = 0, 200\n",
    "    for j in range(30):\n",
    "        state, cash = miniopoly_turn(state, cash)\n",
    "        if cash == 0:\n",
    "            continue\n",
    "            \n",
    "    cashs.append(cash)\n",
    "    \n",
    "P_bankrupt = cashs.count(0) / 5000\n",
    "print('Probability that a player goes bankrupt is: '+str(P_bankrupt))"
   ]
  },
  {
   "cell_type": "markdown",
   "metadata": {},
   "source": [
    "**Part D**: Use your code from **Part A** to estimate the probability that a player goes bankrupt in the first 30 turns _given_ that they went to **Jail** at least once.  Is a player more or less likely to go bankrupt if they've been to **Jail**?  "
   ]
  },
  {
   "cell_type": "code",
   "execution_count": null,
   "metadata": {},
   "outputs": [],
   "source": [
    "injails = []\n",
    "cashs = []\n",
    "for i in range(5000):\n",
    "    state, cash = 0, 200\n",
    "    flag = 0\n",
    "    for j in range(30):\n",
    "        state, cash = miniopoly_turn(state, cash)\n",
    "        if state == 30: # look if the player is in the jail\n",
    "            flag = 1\n",
    "        \n",
    "        if cash == 0:\n",
    "            continue\n",
    "            \n",
    "    cashs.append(cash)\n",
    "    injails.append(flag)\n",
    "\n",
    "# Convert to numpy array\n",
    "cashs = np.array(cashs)\n",
    "injails = np.array(injails)\n",
    "\n",
    "# Index of player who goes bankrupt\n",
    "index_bankrupt = np.squeeze(np.argwhere(cashs == 0))\n",
    "\n",
    "# Num of player who goes bankrupt and went to jail\n",
    "injail_num = np.where(injails[index_bankrupt]==1)[0].shape[0]\n",
    "\n",
    "# Num of player who goes bankrupt and never went to jail\n",
    "not_injail_num = np.where(injails[index_bankrupt]==0)[0].shape[0]\n",
    "\n",
    "# 破产的玩家中,曾经进入监狱的概率\n",
    "P_goes_in_jail = injail_num / (injail_num + not_injail_num)\n",
    "print('Probability of those players who goes bankrupt and also went to jail: '+str(P_goes_in_jail))\n",
    "\n",
    "# 破产的玩家中,从来没有进入过监狱的概率\n",
    "P_goes_notin_jail = not_injail_num / (injail_num + not_injail_num)\n",
    "print('Probability of those players who goes bankrupt and never went to jail: '+str(P_goes_notin_jail))"
   ]
  },
  {
   "cell_type": "markdown",
   "metadata": {},
   "source": [
    "**Part E**: Use your code from **Part A** to estimate the probability that a player goes bankrupt in the first 30 turns _given_ that they passed **Go** two or more times.  Is a player more or less likely to go bankrupt if they've managed to pass **Go** at least twice?"
   ]
  },
  {
   "cell_type": "code",
   "execution_count": null,
   "metadata": {},
   "outputs": [],
   "source": [
    "pass_GO = []\n",
    "cashs = []\n",
    "for i in range(5000):\n",
    "    state, cash = 0, 200\n",
    "    num_pass_GO = 0\n",
    "    for j in range(30):\n",
    "        new_state, cash = miniopoly_turn(state, cash)\n",
    "        \n",
    "        if new_state < state: # 判断是否pass GO\n",
    "            num_pass_GO += 1\n",
    "        \n",
    "        state = new_state\n",
    "\n",
    "        if cash == 0:  # 判断是否破产了,破产了就结束游戏\n",
    "            continue\n",
    "            \n",
    "    cashs.append(cash)\n",
    "    pass_GO.append(num_pass_GO)\n",
    "\n",
    "# Convert to numpy array\n",
    "cashs   = np.array(cashs)\n",
    "pass_GO = np.array(pass_GO)\n",
    "\n",
    "# Index of player who goes bankrupt\n",
    "index_bankrupt = np.squeeze(np.argwhere(cashs == 0))\n",
    "\n",
    "GO_gt_twice_num     = np.where(pass_GO[index_bankrupt]>=2)[0].shape[0]\n",
    "GO_lt_twice_num  = np.where(pass_GO[index_bankrupt]<2)[0].shape[0]\n",
    "    \n",
    "# 破产的玩家中,经过GO两次或者以上的概率\n",
    "P_GO_gt_twice = GO_gt_twice_num / (GO_gt_twice_num + GO_lt_twice_num)\n",
    "print('Probability of those players who goes bankrupt and also passed GO great than twice: '+str(P_GO_gt_twice))\n",
    "\n",
    "# 破产的玩家中,经过GO少于两次的概率\n",
    "P_GO_lt_twice = GO_lt_twice_num / (GO_gt_twice_num + GO_lt_twice_num)\n",
    "print('Probability of those players who goes bankrupt and passed GO less than twice: '+str(P_GO_lt_twice))    "
   ]
  },
  {
   "cell_type": "markdown",
   "metadata": {},
   "source": [
    "### [15 points] Problem 5 \n",
    "***\n",
    "\n",
    "### Board Game Calamity! \n",
    "\n",
    "Dan and Chris have been playing board games for ages. Among the games they play a lot are Miniopoly and a similar game with slightly tweaked rules called **Fakeiopoly!**  Being Data-Nerds, they like to record the details of each game they play for future analysis.  Since the games are similar, they store the results for Miniopoly and Fakeiopoly in the same database.  Unfortunately, their data has been corrupted!  The only data that survived are the states (i.e. square numbers) they were on after each of the first 20 turns as well a the amount of cash they had on hand after each of the first 20 turns. This information is stored in the columns **S1**-**S20** and **C1**-**C20** in the following DataFrame. "
   ]
  },
  {
   "cell_type": "code",
   "execution_count": null,
   "metadata": {},
   "outputs": [],
   "source": [
    "dfLog = pd.read_csv(\"https://raw.githubusercontent.com/chrisketelsen/csci3022/master/hmwk/hmwk02/game_log.csv\")\n",
    "dfLog.head()"
   ]
  },
  {
   "cell_type": "markdown",
   "metadata": {},
   "source": [
    "You might notice that there is one extra column in the DataFrame called **Game** which describes whether they were playing Miniopoly (labeled real) or Fakeiopoly (labeled fake).  Unfortunately, the **Game** labels only survived in the first half of the DataFrame.  As you can see, the **Game** labels in the second half of the database were lost. "
   ]
  },
  {
   "cell_type": "code",
   "execution_count": null,
   "metadata": {},
   "outputs": [],
   "source": [
    "dfLog.tail()"
   ]
  },
  {
   "cell_type": "markdown",
   "metadata": {},
   "source": [
    "While they can deal with the loss of information about later turns, doing any kind of meaningful analysis on the data requires knowledge of which game they were playing.  Your job is to see if you can reconstruct the missing **Game** labels in the second half of the DataFrame.  \n",
    "\n",
    "Sadly, Fakeiopoly was a game of their own invention, and the rules were among the lost data.  But, being budding data scientists, you can probably glean some insights into the non-standard rules by exploring the data with intact labels in the first half of the DataFrame. \n",
    "\n",
    "**Part A**: Complete the function predict_game_log below to predict whether each game in the DataFrame is real or fake.  To help you, we've provided a score function that reports the accuracy of your predictions on the rows that have intact labels.  \n",
    "\n",
    "OK, here are the **rules**: \n",
    "\n",
    "- You may **NOT** load any external libraries beyond Pandas, Numpy, and Matplotlib.  Instead of fancy Machine Learning techniques you may have picked up on the streets, you'll have to rely on your probability, heuristics, and exploratory data analysis skills. \n",
    "- You may write any additional functions you like, but you should **NOT** change the way that predict_game_log is called or what it returns. \n",
    "\n",
    "And some final **guidance**: \n",
    "\n",
    "- While we hope you do well, and obtain great accuracies, we're more interested in seeing how you approach the problem.  As part of your solution you should describe in detail how you based your predictions.  A solution with high accuracy and no justification of you approach may receive a low score, while a solution with mediocre accuracy and good justification may receive a high score.  What aspects of the data lead you to believe that your approach might be successful? Supporting evidence might include graphical summaries of the data and extensive description of trial and error. "
   ]
  },
  {
   "cell_type": "code",
   "execution_count": null,
   "metadata": {
    "collapsed": true
   },
   "outputs": [],
   "source": [
    "def predict_game_log():\n",
    "    '''\n",
    "    Function to read in the corrupted DataFrame and make predictions\n",
    "    about which game is associated with each sequence of states \n",
    "    and cash values.  You should store your predictions (\"real\"/\"fake\")\n",
    "    in the column \"Prediction\" in the DataFrame. \n",
    "    '''\n",
    "    \n",
    "    dfPredict = pd.read_csv(\"https://raw.githubusercontent.com/chrisketelsen/csci3022/master/hmwk/hmwk02/game_log.csv\")\n",
    "    bool_index_fake = pd.Series([False]*len(dfPredict), index=dfPredict.index)\n",
    "    for i in range(19):\n",
    "        diff = dfPredict['S'+str(i+2)] - dfPredict['S'+str(i+1)]\n",
    "        diff[diff < 0] = 40 + diff[diff < 0]\n",
    "        bool_index_fake = bool_index_fake | (diff > 12)\n",
    "        \n",
    "    bool_index_fake[bool_index_fake == True] = 'fake'\n",
    "    bool_index_fake[bool_index_fake == False] = 'real'\n",
    "\n",
    "    dfPredict.loc[:, \"Prediction\"] = bool_index_fake\n",
    "    \n",
    "    return dfPredict "
   ]
  },
  {
   "cell_type": "code",
   "execution_count": null,
   "metadata": {
    "collapsed": true
   },
   "outputs": [],
   "source": [
    "def score(df):\n",
    "    '''\n",
    "    Function to score your predictions on the labeled game data. \n",
    "    '''\n",
    "    num_samples = len(df.loc[pd.notnull(df[\"Game\"])])\n",
    "    num_correct = np.sum(df.loc[pd.notnull(df[\"Game\"]), \"Game\"] == df.loc[pd.notnull(df[\"Game\"]), \"Prediction\"])\n",
    "    print(\"accuracy on labeled data: {}\".format(num_correct / num_samples))"
   ]
  },
  {
   "cell_type": "code",
   "execution_count": null,
   "metadata": {},
   "outputs": [],
   "source": [
    "score(predict_game_log())"
   ]
  },
  {
   "cell_type": "markdown",
   "metadata": {},
   "source": [
    "**[Extra Credit] Part B**: Based on your exploratory data analysis, can you predict how the rules of Fakeiopoly differ from Miniopoly?  Be sure to thoroughly justify your conclusions. "
   ]
  },
  {
   "cell_type": "markdown",
   "metadata": {
    "collapsed": true
   },
   "source": [
    "经过EDA分析,最后发现fake数据和real数据的唯一区别是: real的每个turn可以走[2-12]步, 而fake的每个turn可以走[2-13]步"
   ]
  },
  {
   "cell_type": "markdown",
   "metadata": {},
   "source": [
    "### Challenge Problem - Night Falls. A Storm Rolls In. Can You Cross The River?\n",
    "***\n",
    "\n",
    "In every homework assignment we'll give you a Challenge Problem.  Challenge Problems never need to be turned in (and in fact, will not be graded) but we encourage you to give them a shot (after completing the required homework problems) and discuss them with your classmates and your instructors. \n",
    "\n",
    "The following Challenge Problem was a [Riddler](https://fivethirtyeight.com/tag/the-riddler/) on [FiveThirtyEight](https://fivethirtyeight.com) a few years back. \n",
    "\n",
    "You’re on the north shore of a river, and want to cross to the south, via a series of 13 bridges and six islands, which you can see in the diagram below. But, as you approach the water, night falls, a bad storm rolls in, and you’re forced to wait until morning to try to cross. Overnight, the storm could render some of the bridges unusable — it has a 50 percent chance of knocking out each of the bridges. (The chance is independent for each bridge.)\n",
    "\n",
    "<br>\n",
    "\n",
    "![alt text](https://espnfivethirtyeight.files.wordpress.com/2016/01/roeder-riddler-diagram-11.png?w=575&h=449&quality=90&strip=info)\n",
    "\n",
    "<br>\n",
    "\n",
    "What’s the probability you will be able to cross the river in the morning? (You have no boat, can’t swim, can’t fix the bridges, etc. No tricks.)"
   ]
  },
  {
   "cell_type": "code",
   "execution_count": null,
   "metadata": {
    "collapsed": true
   },
   "outputs": [],
   "source": []
  }
 ],
 "metadata": {
  "kernelspec": {
   "display_name": "Python 3",
   "language": "python",
   "name": "python3"
  },
  "language_info": {
   "codemirror_mode": {
    "name": "ipython",
    "version": 3
   },
   "file_extension": ".py",
   "mimetype": "text/x-python",
   "name": "python",
   "nbconvert_exporter": "python",
   "pygments_lexer": "ipython3",
   "version": "3.6.1"
  }
 },
 "nbformat": 4,
 "nbformat_minor": 2
}
