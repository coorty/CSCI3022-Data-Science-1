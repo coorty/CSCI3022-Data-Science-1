{
 "cells": [
  {
   "cell_type": "markdown",
   "metadata": {},
   "source": [
    "# Homework 4: More Simulation and the Central Limit Theorem \n",
    "***\n",
    "\n",
    "**Name**: \n",
    "\n",
    "**Section**: (001 or 002)\n",
    "***\n",
    "\n",
    "This assignment is due on Moodle by **5pm on Friday October 27th**. Your solutions to theoretical questions should be done in Markdown/MathJax directly below the associated question.  Your solutions to computational questions should include any specified Python code and results as well as written commentary on your conclusions.  Remember that you are encouraged to discuss the problems with your instructors and classmates, but **you must write all code and solutions on your own**.  For a refresher on the course **Collaboration Policy** click [here](https://github.com/chrisketelsen/csci3022/blob/master/resources/syllabus.md#collaboration-policy).  \n",
    "\n",
    "**NOTES**: \n",
    "\n",
    "- Do **NOT** load or use any Python packages that are not available in Anaconda 3.6. \n",
    "- Some problems with code may be autograded.  If we provide a function API **do not** change it.  If we do not provide a function API then you're free to structure your code however you like. \n",
    "- Because you can technically evaluate notebook cells is a non-linear order, it's a good idea to do Cell $\\rightarrow$ Run All as a check before submitting your solutions.  That way if we need to run your code you will know that it will work as expected. \n",
    "- Submit only this Jupyter notebook to Moodle.  Do not compress it using tar, rar, zip, etc. "
   ]
  },
  {
   "cell_type": "code",
   "execution_count": 1,
   "metadata": {
    "collapsed": true,
    "scrolled": true
   },
   "outputs": [],
   "source": [
    "import numpy as np\n",
    "import matplotlib.pylab as plt\n",
    "import pandas as pd\n",
    "%matplotlib inline"
   ]
  },
  {
   "cell_type": "markdown",
   "metadata": {},
   "source": [
    "### [35 points] Problem 1 - Monte Carlo Estimation of Definite Integrals \n",
    "***\n",
    "\n",
    "One really cool application of random variables is using them to approximate integrals/area under a curve.  This method of approximating integrals is used constantly in computational science to approximate really difficult integrals that we never want to do by hand.  In this exercise you'll figure out how we can do this in practice and test your method on a very simple integral. "
   ]
  },
  {
   "cell_type": "markdown",
   "metadata": {},
   "source": [
    "**Part A** Compute by-hand, the integral $f(x) = \\sin(x)$ for $0 \\leq x \\leq \\pi$."
   ]
  },
  {
   "cell_type": "markdown",
   "metadata": {
    "collapsed": true
   },
   "source": [
    "**Solutions:**\n",
    "$$\n",
    "\\int_0^{\\pi} f(x) dx=\\int_0^{\\pi} sin(x) dx =(-cos(x))\\big\\lvert_0^{\\pi}=(-cos(\\pi))-(-cos(0))=1-(-1)=2\n",
    "$$"
   ]
  },
  {
   "cell_type": "markdown",
   "metadata": {},
   "source": [
    "**Part B**: Suppose we sample a random variable $X$ from $U(0,\\pi)$ and another random variable $Y$ from $U(0,1)$ and think of them as $x$- and $y$-coordinates of a point in the box $[0,\\pi] \\times [0,1]$.  If we compute the ratio of points that fall under the curve $f(x)$ to the total points sampled, what does this value estimate? "
   ]
  },
  {
   "cell_type": "markdown",
   "metadata": {
    "collapsed": true
   },
   "source": [
    "**Solutions:**\n",
    "\n",
    "设由X属于$[0,\\pi]$,Y属于$[0,1]$所围成的面积为$S_1$,则有:\n",
    "$$S_1 = (\\pi - 0) * (1-0) = \\pi * 1 = \\pi$$\n",
    "设在X属于$[0,\\pi]$这个范围内,f(x)与X轴围成的面积为$S_2$,则有(Part A中已经计算):\n",
    "$$S_2 = \\int_0^{\\pi}f(x)=2$$ \n",
    "所以, 生成的二维随机点落在f(x)下的ratio为:\n",
    "$$r = \\frac{S_2}{S_1}=\\frac{2}{\\pi}=0.6366$$\n",
    "The ratio表示在x:[0-1],y:[0-$\\pi$]这个长方形内,f(x)与X轴围成的面积占整个长方形的比例."
   ]
  },
  {
   "cell_type": "markdown",
   "metadata": {},
   "source": [
    "**Part C**: How could we modify the process outlined in **Part B** so that our estimator estimates the value of the desired integral? "
   ]
  },
  {
   "cell_type": "markdown",
   "metadata": {
    "collapsed": true
   },
   "source": [
    "在$[0,\\pi] \\times [0,1]$里面随机抽取一些点,random variable $X$ from $U(0,\\pi)$,random variable $Y$ from $U(0,1)$,抽取足够多的点,然后考察每个点是在f(x)上面还是下面,计算f(x)下面的点占总点数的比例,然后拿这个比例乘以长方形的面积就得到我们要求积分的值."
   ]
  },
  {
   "cell_type": "markdown",
   "metadata": {},
   "source": [
    "**Part C** Write a function integrate that takes as arguments the number of points to sample and a boolean flag isPlot and approximates the definite integral of $f(x)$ from $0$ to $1$ by sampling $X$ from $U(0,\\pi)$ and $Y$ from $U(0,1)$. Your function should perform 3 tasks: \n",
    "\n",
    "1. Return the estimate of the value of the integral. \n",
    "2. Return the sample variance of the random variable being simulated using the np.var function.  \n",
    "4. If isPlot is True, plot the curve $f(x)$ as well as the location of the points $(X,Y)$, colored according to whether they fall above or below the curve. \n",
    "\n",
    "Run your simulation with isPlot=True for $1K$ samples so we can see your plot. Then, run your simulation (with the isPlot=False) with at least $10K$ samples and estimate the value of the given integral.  Does your estimate agree with the exact value of the integral you computed in **Part A**? "
   ]
  },
  {
   "cell_type": "code",
   "execution_count": 2,
   "metadata": {
    "collapsed": true
   },
   "outputs": [],
   "source": [
    "def integrate(num_samples=int(1e2), isPlot=False):\n",
    "    # TO DO\n",
    "    points_x = []\n",
    "    points_y = []\n",
    "    isBelow = np.array([0]*num_samples)\n",
    "    for i in range(num_samples):\n",
    "        x = np.random.rand()*np.pi\n",
    "        y = np.random.rand()\n",
    "        points_x.append(x)\n",
    "        points_y.append(y)\n",
    "        \n",
    "        if y <= np.sin(x):\n",
    "            isBelow[i] = 1\n",
    "\n",
    "    if isPlot:\n",
    "        X = np.linspace(0, np.pi, 256,endpoint=True)\n",
    "        C = np.sin(X)\n",
    "        fig, ax = plt.subplots()\n",
    "        ax.plot(X,C)\n",
    "        ax.scatter(points_x, points_y, c=isBelow)\n",
    "        plt.show()\n",
    "    \n",
    "    estimate = np.pi * np.sum(isBelow) / num_samples \n",
    "    sample_var  = np.var(isBelow * np.pi)\n",
    "    return estimate, sample_var "
   ]
  },
  {
   "cell_type": "code",
   "execution_count": 3,
   "metadata": {
    "scrolled": true
   },
   "outputs": [
    {
     "data": {
      "image/png": "[encoded data removed]",
      "text/plain": [
       "<matplotlib.figure.Figure at 0x4d484e0>"
      ]
     },
     "metadata": {},
     "output_type": "display_data"
    },
    {
     "name": "stdout",
     "output_type": "stream",
     "text": [
      "The estimate of the value of the integral: 1.97292018645\n",
      "The sample variance of the random variable 2.30569750176\n"
     ]
    }
   ],
   "source": [
    "# Run the simulation with isPlot=True for 1000 samples so can see the plot\n",
    "estimate, sample_var = integrate(num_samples=int(1e3), isPlot=True)\n",
    "print(\"The estimate of the value of the integral: \"+str(estimate))\n",
    "print(\"The sample variance of the random variable \"+str(sample_var))"
   ]
  },
  {
   "cell_type": "code",
   "execution_count": 4,
   "metadata": {},
   "outputs": [
    {
     "name": "stdout",
     "output_type": "stream",
     "text": [
      "The estimate of the value of the integral: 1.98548655707\n",
      "The sample variance of the random variable 2.29543311319\n"
     ]
    }
   ],
   "source": [
    "# Run the simulation (with the isPlot=False) with at least 10K samples \n",
    "# and estimate the value of the given integral.\n",
    "estimate, sample_var  = integrate(num_samples=int(1e4), isPlot=False)\n",
    "print(\"The estimate of the value of the integral: \"+str(estimate))\n",
    "print(\"The sample variance of the random variable \"+str(sample_var))"
   ]
  },
  {
   "cell_type": "markdown",
   "metadata": {},
   "source": [
    "这里使用的蒙特卡洛估计,估计出来的积分值为1.9666, Part1里面直接计算积分等于2,不是完全相同,有一定误差,但是随着抽样数目的增大,这个误差会越来越小."
   ]
  },
  {
   "cell_type": "markdown",
   "metadata": {},
   "source": [
    "**Part D**: In the simulation above, what is distribution of the random variable we're actually sampling and what is/are its parameters?  "
   ]
  },
  {
   "cell_type": "markdown",
   "metadata": {
    "collapsed": true
   },
   "source": [
    "经过上面的估计,我觉得随机变量X的分布是二项分布: $X=0$表示随机点落在f(x)上方;$X=1$表示随机点落在f(x)下方:\n",
    "$$P(X=0) = 1-\\frac{2}{\\pi}$$\n",
    "$$P(X=\\pi) = \\frac{2}{\\pi}$$"
   ]
  },
  {
   "cell_type": "markdown",
   "metadata": {},
   "source": [
    "**Part E**: Compute the expected value of the random variable you described in **Part D** by hand.  Does this value agree with the exact value of the integral you computed in **Part A** and the estimated value you computed in **Part C**? "
   ]
  },
  {
   "cell_type": "markdown",
   "metadata": {},
   "source": [
    "**Solutions:**\n",
    "\n",
    "$$E[X]=0*P(X=0)+\\pi *P(X=\\pi)=2$$\n",
    "\n",
    "计算出来的值和Part A里面计算出来的积分值完全相同, 和Part C里面得到的值有些许误差."
   ]
  },
  {
   "cell_type": "markdown",
   "metadata": {},
   "source": [
    "**Part F**: Compute the variance of the random variable you described in **Part D** by hand.  Does this value agree with the sample variance observed in **Part C**? "
   ]
  },
  {
   "cell_type": "markdown",
   "metadata": {
    "collapsed": true
   },
   "source": [
    "$$Var[X]=(0-E[x])^2*(1-\\frac{2}{\\pi}) + (\\pi-E[x])^2*\\frac{2}{\\pi}=2.2831$$"
   ]
  },
  {
   "cell_type": "markdown",
   "metadata": {},
   "source": [
    "这里计算出来的随机变量的方法和Part C中计算得到的值相差不大."
   ]
  },
  {
   "cell_type": "markdown",
   "metadata": {},
   "source": [
    "### [25 points] Problem 2 - Sampling Freshies\n",
    "***\n",
    "\n",
    "Ralphie the buffalo stands alone in a field. Snow has come to Colorado and flakes collect on her majestic horns and beard. She shivers them off not because she is cold but just because her buffalo reflexes have been honed by millenia of adaptation. She is a biological machine. An inspiration. \n",
    "\n",
    "She wanders into her barn-mansion, hungry. There is hay from the autumn harvest. This is no ordinary hay, of course. It must be inspected with statistical care so that it is with high probability of the finest quality. You see, Ralphie's hay has a freshness score, measured in Freshies, named after Hayward Freshmann. The average piece of hay from her current supplier is 91 Freshies, and the standard deviation is 6 Freshies. \n",
    "\n",
    "You are new on the job, excited to apply your CSCI 3022 knowledge, and keen to prove yourself in a big and changing world. You are in charge of sampling the hay. Your boss, Governor John Hickenlooper, tells you that you must take a sample of hay and that the average freshness must be no less than 90 Freshies. If the average is below 90 Freshies, the bale of hay must be thrown away, rejected. The current system, when you arrive is to sample 30 pieces of hay from each bale to see if the average freshness is above the 90 Freshies threshold. \n",
    "\n",
    "**Part A**:  Say \"Freshies Threshold\" at least 10 times in a row, as quickly as possible. Do not show your work. \n",
    "\n"
   ]
  },
  {
   "cell_type": "markdown",
   "metadata": {
    "collapsed": true
   },
   "source": [
    "**Solutions:**\n",
    "\n",
    "Freshies Threshold;Freshies Threshold;Freshies Threshold;Freshies Threshold;Freshies Threshold;\n",
    "Freshies Threshold;Freshies Threshold;Freshies Threshold;Freshies Threshold;Freshies Threshold;\n",
    "\n",
    "hahahaha"
   ]
  },
  {
   "cell_type": "markdown",
   "metadata": {},
   "source": [
    "**Part B**: What is the probability that a bale of hay is rejected under the current system of 30 samples?"
   ]
  },
  {
   "cell_type": "markdown",
   "metadata": {
    "collapsed": true
   },
   "source": [
    "**Solutions**\n",
    "\n",
    "已知$\\mu=91, \\sigma=6, n=30$,我们这里要求的是概率:\n",
    "$$P(\\overline{X}\\leq 90)$$\n",
    "根据中心极限定理可得到$\\overline{X}$的分布为:\n",
    "$$\\overline{X}\\sim N(91,\\frac{6^2}{30})$$\n",
    "将此分布转换成为标准正态分布:\n",
    "$$z=\\frac{\\overline{X}-u}{\\sigma}\\sim N(0,1)$$\n",
    "对于90,转换成为正态分布后,为:\n",
    "$$90 \\to \\frac{90-91}{\\frac{6}{\\sqrt{30}}}=\\frac{-\\sqrt{30}}{6}=-0.91287$$\n",
    "因此,可以将$P(\\overline{X}\\leq 90)$转化为:\n",
    "$$P(\\overline{X}\\leq 90) = P(z\\leq -0.91287)=\\Phi(-0.91287)=0.1807$$"
   ]
  },
  {
   "cell_type": "markdown",
   "metadata": {},
   "source": [
    "**Part C**: Well, that's not good enough. Not for our Ralphie. You propose to Governor Hickelooper that you will get hay from a new supplier. The new supplier's hay has a standard deviation of 6 Freshies, just like the old one. But, they can harvest the hay from various parts of the field, to adjust the average Freshy level of the hay, $\\mu$. Gov. Hickenlooper's requirement is that the probability that a bale of hay is rejected is less than 0.001. What is the minimum average Freshy level $\\mu$ needed in order to achieve the Governor's requirement?\n"
   ]
  },
  {
   "cell_type": "markdown",
   "metadata": {},
   "source": [
    "**Solutions:**\n",
    "\n",
    "这里$\\sigma=6, n=30$,但是$\\mu$是未知的:\n",
    "\n",
    "根据Part B, 我们这里有:\n",
    "$$P(z\\leq \\frac{\\overline{X}-\\mu}{\\sigma} = \\frac{90-u}{\\frac{6}{\\sqrt{30}}})=\\Phi(\\frac{90-u}{\\frac{6}{\\sqrt{30}}})\\leq 0.001$$\n",
    "由于:\n",
    "$$\\Phi(-3.0902) = 0.001$$\n",
    "因此有:\n",
    "$$\\frac{90-u}{\\frac{6}{\\sqrt{30}}}\\leq -3.0902$$\n",
    "Thus:\n",
    "$$\\mu \\geq 93.3851$$\n",
    "因此,$\\mu$最小为93.3851, 如果取整数的话, 最小可取94."
   ]
  },
  {
   "cell_type": "markdown",
   "metadata": {},
   "source": [
    "**Part D**: You are about to submit your report, given your answer above, when you find out that the new supplier is going out of business. Ugh.  You are stuck with the old hay. But the Governor's requirement still stands: the probability that a bale of hay is rejected must be less than 0.001. You decide you'll just take more samples from the existing bales of hay. Surely, the number must be greater than 30, but... what is the minimum number of samples that will ensure that each bale of hay is rejected with probability less than $0.001$?\n"
   ]
  },
  {
   "cell_type": "markdown",
   "metadata": {
    "collapsed": true
   },
   "source": [
    "**Solutions:**\n",
    "\n",
    "这里$\\sigma=6, \\mu=91$,但是抽样数目$n$是未知的:\n",
    "\n",
    "与Part C类似, 我们这里有:\n",
    "$$P(z\\leq \\frac{\\overline{X}-\\mu}{\\sigma} = \\frac{90-91}{\\frac{6}{\\sqrt{n}}})=\\Phi(\\frac{90-91}{\\frac{6}{\\sqrt{n}}})\\leq 0.001$$\n",
    "\n",
    "由于:\n",
    "$$\\Phi(-3.0902) = 0.001$$\n",
    "因此有:\n",
    "$$\\frac{90-91}{\\frac{6}{\\sqrt{n}}}\\leq -3.0902$$\n",
    "对上式进行求解,可得到:\n",
    "$$n\\geq (6\\times 3.0902^2)^2 = 343.7761$$\n",
    "由于抽样次数n必须取整数, 因此n取最小值为: 344"
   ]
  },
  {
   "cell_type": "markdown",
   "metadata": {},
   "source": [
    "**[Extra Credt - 2 points] Part E**: Draw an ASCII picture of Ralphie. \n",
    "\n",
    " \n"
   ]
  },
  {
   "cell_type": "code",
   "execution_count": null,
   "metadata": {
    "collapsed": true
   },
   "outputs": [],
   "source": []
  },
  {
   "cell_type": "markdown",
   "metadata": {},
   "source": [
    "### [40 points] Problem 3 - Not-so-Easy Peasy Plinko \n",
    "***\n",
    "\n",
    "[Plinko](http://priceisright.wikia.com/wiki/Plinko), the shining jewel of the gameshow [Price is Right](https://en.wikipedia.org/wiki/The_Price_Is_Right), is a staple of American culture.  Luckily for us, it's also chalk-full of interesting ideas from probability and statistics. The game involves dropping a disc onto an inclined board of pegs and letting it bounce around until it lands in a bin with an associated cash value. Players get to drop some number of discs down the Plinko board and keep their winnings.   \n",
    "\n",
    "In class we looked at a [simplified version of Plinko](https://github.com/chrisketelsen/csci3022/blob/master/inclass-notebooks/lecture11solutions.ipynb):  \n",
    "\n",
    "![alt text](https://www.cs.colorado.edu/~ketelsen/files/courses/csci3022/figs/plinko1.png)\n",
    "\n",
    "\n",
    "In real life, Plinko has boundaries, positioned symmetrically around the center $c$ at positions $\\ell$ and $r$ s.t. $|c-\\ell| = |c+r|$. The effect of the boundaries are that when the Plinko disc hits the boundary, it can only move back toward the center. In other words, if the disc hits the boundary at $\\ell$, it can only go right at that level. Likewise, if the disc hits the boundary at $r$, it can only go left at that level. \n",
    "\n",
    "For instance, the following board depicts a Plinko game with boundaries at $0.5$ (halfway between the centers of Buckets 0 and 1) and $5.5$ (halfway between Buckets 5 and 6)  The red pegs indicate boundary pegs on which the disc always moves toward the center.   \n",
    "\n",
    "![alt text](https://www.cs.colorado.edu/~ketelsen/files/courses/csci3022/figs/plinko2.png)\n"
   ]
  },
  {
   "cell_type": "markdown",
   "metadata": {},
   "source": [
    "**Part A**: Write a simulator of Plinko that models the disc moving through each of the 6 rows of pegs to its final destination in one of the 7 bins. Let $X$ be the random variable corresponding to the Bucket that the disc lands in. Run your simulation for at least $10K$ trials and plot a density histogram estimate of the PMF of $X$ when the probability of moving left or right when hitting a peg is equal to $p = 0.5$. "
   ]
  },
  {
   "cell_type": "code",
   "execution_count": 5,
   "metadata": {
    "scrolled": true
   },
   "outputs": [
    {
     "data": {
      "image/png": "[encoded data removed]",
      "text/plain": [
       "<matplotlib.figure.Figure at 0x4d2ec18>"
      ]
     },
     "metadata": {},
     "output_type": "display_data"
    }
   ],
   "source": [
    "def plinko_trial(num_rows=6, p=0.5, num_trials=int(1e2)):\n",
    "    # Input:\n",
    "    #   num_rows: Plinko游戏的行数\n",
    "    #   p: 当hitting a peg是,disc往右的概率\n",
    "    #   num_trials: 实验的总次数\n",
    "    \n",
    "    X = []\n",
    "    for i in range(num_trials):\n",
    "        bucket = np.sum([np.random.choice([0,1], p=[1-p, p]) for j in range(num_rows)])       \n",
    "        X.append(bucket)\n",
    "        \n",
    "    # Draw density histogram eatimate of the PMF of X\n",
    "    counts = pd.Series(X).groupby(pd.Series(X)).count()\n",
    "    (counts/counts.sum()).plot(kind='bar')\n",
    "    plt.show()\n",
    "\n",
    "# Testing\n",
    "plinko_trial(num_rows=6, p=0.5, num_trials=int(1e4))"
   ]
  },
  {
   "cell_type": "markdown",
   "metadata": {},
   "source": [
    "**Part B**: Let $X$ be the random variable corresponding to the Bucket that the disc lands in.  Write down the **true** PMF for $X$. (**Hint**: It might be helpful to reflect back on the discussion from Lecture 11). "
   ]
  },
  {
   "cell_type": "markdown",
   "metadata": {
    "collapsed": true
   },
   "source": [
    "**Solutions:**\n",
    "根据分析,可知X满足二项分布(Binomial distribution),可表示为:\n",
    "$$X\\sim Bin(n, p)$$\n",
    "上式中,n表示Plinko中的num_rows, p表示hitting a peg是,disc往右的概率.\n",
    "\n",
    "具体,每个离散变量X出现的概率为:\n",
    "$$P(X=k)=C_n^k p^k(1-p)^{n-k}$$\n",
    "其中,n=num_rows, k=0,1,...,num_rows"
   ]
  },
  {
   "cell_type": "markdown",
   "metadata": {},
   "source": [
    "**Part C**: Write a simulator for Plinko with boundaries. Your code should be similar to your code from **Part A**, but should take in two variable boundaries, left_bound and right_bound, corresponding to the location of the left boundary and right boundary, respectively. \n"
   ]
  },
  {
   "cell_type": "code",
   "execution_count": 6,
   "metadata": {},
   "outputs": [
    {
     "name": "stdout",
     "output_type": "stream",
     "text": [
      "Bucket: 5\n"
     ]
    }
   ],
   "source": [
    "def plinko_trial_with_bounds(num_rows, p, left_bound = 0, right_bound = 0):\n",
    "    # Input:\n",
    "    #   num_rows: Plinko游戏的行数\n",
    "    #   p: 当hitting a peg是,disc往右的概率\n",
    "    #   left_bound: 左边boundary的位置\n",
    "    #   right_bound: 右边boundary的位置\n",
    "    # Note:\n",
    "    #   如果一边没有设定boundary,则设定为0即可\n",
    "    \n",
    "    # 两个boundary不能相同!!!\n",
    "    if (left_bound != 0) and (left_bound == right_bound):\n",
    "        print(\"left_bound can't equal to right_bound\")\n",
    "        return\n",
    "        \n",
    "    curr_location = num_rows / 2  # 计算最顶上的那个peg所在的位置\n",
    "    \n",
    "    bucket = 0\n",
    "    for ii in range(num_rows):\n",
    "        if curr_location == left_bound:\n",
    "            bucket += 1\n",
    "            curr_location += 0.5\n",
    "        elif curr_location == right_bound:\n",
    "            curr_location -= 0.5\n",
    "        else:\n",
    "            rand = np.random.choice([0, 1], p=[1-p, p])\n",
    "            bucket += rand\n",
    "            if rand == 0:\n",
    "                curr_location -= 0.5\n",
    "            else:\n",
    "                curr_location += 0.5\n",
    "            \n",
    "    return bucket\n",
    "            \n",
    "# Testing\n",
    "bucket = plinko_trial_with_bounds(6, p=0.5, left_bound = 0.5, right_bound = 5.5)\n",
    "print(\"Bucket: \"+str(bucket))"
   ]
  },
  {
   "cell_type": "markdown",
   "metadata": {},
   "source": [
    "**Part D**: Consider the board with left_bound $= 0.5$ which looks as follows: \n",
    "\n",
    "![alt text](https://www.cs.colorado.edu/~ketelsen/files/courses/csci3022/figs/plinko3.png)\n",
    "\n",
    "Let $X$ be the random variable corresponding to the Bucket that the disc lands in. Run your simulation for at least $10K$ trials and plot a density histogram estimate of the PMF of $X$. Compare the approximate PMF for this board to the no-boundary board from **Part A**. Explain the mechanism that causes the differences between the two PMFs in words. \n",
    "\n",
    "\n"
   ]
  },
  {
   "cell_type": "code",
   "execution_count": 9,
   "metadata": {
    "scrolled": true
   },
   "outputs": [
    {
     "data": {
      "image/png": "[encoded data removed]",
      "text/plain": [
       "<matplotlib.figure.Figure at 0xa4179b0>"
      ]
     },
     "metadata": {},
     "output_type": "display_data"
    },
    {
     "name": "stdout",
     "output_type": "stream",
     "text": [
      "1    0.10930\n",
      "2    0.23458\n",
      "3    0.31374\n",
      "4    0.23430\n",
      "5    0.09276\n",
      "6    0.01532\n",
      "dtype: float64\n"
     ]
    }
   ],
   "source": [
    "## Solutions:\n",
    "num_trials = int(1e5)\n",
    "num_rows, p = 6, 0.5\n",
    "left_bound, right_bound = 0.5, 0\n",
    "all_bucket = []\n",
    "for i in range(num_trials):\n",
    "    bucket = plinko_trial_with_bounds(num_rows, p, left_bound, right_bound)\n",
    "    all_bucket.append(bucket)\n",
    "\n",
    "# Draw density histogram eatimate of the PMF of X\n",
    "counts = pd.Series(all_bucket).groupby(pd.Series(all_bucket)).count()\n",
    "pdf = counts/counts.sum()\n",
    "pdf.plot(kind='bar')\n",
    "plt.show()\n",
    "\n",
    "print(pdf)"
   ]
  },
  {
   "cell_type": "markdown",
   "metadata": {},
   "source": [
    "**Explain:**\n",
    "\n",
    "拿上图与Part A中的X的PMF相比,当X等于2,3,4,5,6时,PMF是和Part A中相同的,唯一的不同是当X=1时. 因此这里left_bound=0.5,因此disc无论如何也掉不到X=0那个bin里面,因此,Part A本来应该落到0那个bin的disc都落到了1那个bin中,因此这里P(X=1)为Part A中P(X=0)+P(X=1)"
   ]
  },
  {
   "cell_type": "markdown",
   "metadata": {},
   "source": [
    "**Part E**: Now consider the board with left_bound $= 1.5$ which looks as follows: \n",
    "\n",
    "![alt text](https://www.cs.colorado.edu/~ketelsen/files/courses/csci3022/figs/plinko4.png)\n",
    "\n",
    "Let $X$ be the random variable corresponding to the Bucket that the disc lands in. Run your simulation for at least $10K$ trials and plot a density histogram estimate of the PMF of $X$. Compare the approximate PMF for this board to the boards from **Parts A** and **D**. Explain the mechanism that causes the differences between the three PMFs in words. \n"
   ]
  },
  {
   "cell_type": "code",
   "execution_count": 10,
   "metadata": {},
   "outputs": [
    {
     "data": {
      "image/png": "[encoded data removed]",
      "text/plain": [
       "<matplotlib.figure.Figure at 0xa1c4470>"
      ]
     },
     "metadata": {},
     "output_type": "display_data"
    },
    {
     "name": "stdout",
     "output_type": "stream",
     "text": [
      "2    0.32804\n",
      "3    0.32761\n",
      "4    0.23524\n",
      "5    0.09350\n",
      "6    0.01561\n",
      "dtype: float64\n"
     ]
    }
   ],
   "source": [
    "## Solutions:\n",
    "num_trials = int(1e5)\n",
    "num_rows, p = 6, 0.5\n",
    "left_bound, right_bound = 1.5, 0\n",
    "all_bucket = []\n",
    "for i in range(num_trials):\n",
    "    bucket = plinko_trial_with_bounds(num_rows, p, left_bound, right_bound)\n",
    "    all_bucket.append(bucket)\n",
    "\n",
    "# Draw density histogram eatimate of the PMF of X\n",
    "counts = pd.Series(all_bucket).groupby(pd.Series(all_bucket)).count()\n",
    "pdf = counts/counts.sum()\n",
    "pdf.plot(kind='bar')\n",
    "plt.show()\n",
    "\n",
    "print(pdf)"
   ]
  },
  {
   "cell_type": "markdown",
   "metadata": {},
   "source": [
    "**Explain:**\n",
    "\n",
    "这里的解释其实和Part D里面类似,这里left_bound等于1.5,从而导致0和1这两个bin里面都不可能有disc,这部分disc会转而落到2这个bin或3这个bin,因此这两个bin的概率都增大了."
   ]
  },
  {
   "cell_type": "markdown",
   "metadata": {},
   "source": [
    "**Part F**: OK, one more. Consider the board with left_bound $= 1.5$ and right_bound $= 5.5$ which looks as follows: \n",
    "\n",
    "![alt text](https://www.cs.colorado.edu/~ketelsen/files/courses/csci3022/figs/plinko5.png)\n",
    "\n",
    "Let $X$ be the random variable corresponding to the Bucket that the disc lands in. Use your observations from **Parts A-D** to write down the **true** PMF of $X$. \n",
    "\n",
    "\n"
   ]
  },
  {
   "cell_type": "markdown",
   "metadata": {
    "collapsed": true
   },
   "source": [
    "$$P(X=2)=C_n^2 p^2(1-p)^{n-2}+(1-p^2)*(C_n^0 p^0(1-p)^{n-0}+C_n^1 p^1(1-p)^{n-1})$$ \n",
    "$$P(X=3)=C_n^3 p^3(1-p)^{n-3}+p^2*(C_n^0 p^0(1-p)^{n-0}+C_n^1 p^1(1-p)^{n-1})$$\n",
    "$$P(X=4)=C_n^4 p^4(1-p)^{n-4}$$\n",
    "$$P(X=5)=C_n^5 p^5(1-p)^{n-5} + C_n^6 p^6(1-p)^{n-6}$$\n",
    "当$n=6$时,有:\n",
    "$$P(X=2) = 0.316406$$\n",
    "$$P(X=3) = 0.339844$$\n",
    "$$P(X=4) = 0.234375$$\n",
    "$$P(X=5) = 0.109375$$"
   ]
  },
  {
   "cell_type": "code",
   "execution_count": 11,
   "metadata": {},
   "outputs": [
    {
     "data": {
      "image/png": "[encoded data removed]",
      "text/plain": [
       "<matplotlib.figure.Figure at 0xa27e080>"
      ]
     },
     "metadata": {},
     "output_type": "display_data"
    },
    {
     "name": "stdout",
     "output_type": "stream",
     "text": [
      "2    0.32795\n",
      "3    0.32772\n",
      "4    0.23443\n",
      "5    0.10990\n",
      "dtype: float64\n"
     ]
    }
   ],
   "source": [
    "## Solutions:\n",
    "num_trials = int(1e5)\n",
    "num_rows, p = 6, 0.5\n",
    "left_bound, right_bound = 1.5, 5.5\n",
    "all_bucket = []\n",
    "for i in range(num_trials):\n",
    "    bucket = plinko_trial_with_bounds(num_rows, p, left_bound, right_bound)\n",
    "    all_bucket.append(bucket)\n",
    "\n",
    "# Draw density histogram eatimate of the PMF of X\n",
    "counts = pd.Series(all_bucket).groupby(pd.Series(all_bucket)).count()\n",
    "pdf = counts/counts.sum()\n",
    "pdf.plot(kind='bar')\n",
    "plt.show()\n",
    "\n",
    "print(pdf)"
   ]
  },
  {
   "cell_type": "markdown",
   "metadata": {},
   "source": [
    "**Part G**: Suppose I challenge you to a _friendly_ game of Plinko on the board from **Part F**. I offer to pay you a dollar amount equal to the bucket that your disc lands in, but also charge you a flat fee for each disc that you play.  How much should I charge you per disc so that we break even in the long run? "
   ]
  },
  {
   "cell_type": "markdown",
   "metadata": {},
   "source": [
    "根据Part G来计算X的期望:\n",
    "$$E[X]=2*0.316406+3*0.339844+4*0.234375+5*0.109375=3.136719$$\n",
    "当每次收费至少3.136719 dollar时,可以达到even.如果想打破even,则收费要大于这个值."
   ]
  },
  {
   "cell_type": "code",
   "execution_count": 12,
   "metadata": {},
   "outputs": [
    {
     "name": "stdout",
     "output_type": "stream",
     "text": [
      "3.12562\n"
     ]
    }
   ],
   "source": [
    "## 使用程序来验证上面的计算结果:\n",
    "## Solutions:\n",
    "num_trials = int(1e5)\n",
    "num_rows, p = 6, 0.5\n",
    "left_bound, right_bound = 1.5, 5.5\n",
    "all_bucket = []\n",
    "for i in range(num_trials):\n",
    "    bucket = plinko_trial_with_bounds(num_rows, p, left_bound, right_bound)\n",
    "    all_bucket.append(bucket)\n",
    "    \n",
    "print(np.mean(all_bucket))"
   ]
  },
  {
   "cell_type": "markdown",
   "metadata": {},
   "source": [
    "### Challenge Problem - Real-Deal Plinko \n",
    "***\n",
    "\n",
    "Implement a full-blown Plinko simulator based on the actual board from Price is Right, which allows you to choose where to place the disc at the top of the board.  \n",
    "\n",
    "![alt text](https://i.pinimg.com/736x/7d/4b/5b/7d4b5b9ba5cdeceea16433eaadeeaf13--mash-game-plinko-game.jpg)\n",
    "\n",
    "You can actually do this using mostly your code from **Problem 3** and some careful handling of the boundaries relative to where you drop the disc.  Investigate questions like \"What is the optimal position to drop the disc to maximize expected winnings?\" and \"What are the expected winnings if you play Plinko optimally?\"\n",
    "\n",
    "Once you're done with that, it's time to go full-on Meta-Plinko.  Suppose the boundaries of the Plinko board are in their true positions from the real game show, but the board can have an arbitrary number of rows.  Is there a minimum number of rows the board can have at which point the PMF for the distribution becomes approximately uniform?  If not, is there a Bucket, or set of Buckets, that always have a greater chance of claiming the disc? \n"
   ]
  },
  {
   "cell_type": "code",
   "execution_count": null,
   "metadata": {
    "collapsed": true
   },
   "outputs": [],
   "source": []
  }
 ],
 "metadata": {
  "kernelspec": {
   "display_name": "Python 3",
   "language": "python",
   "name": "python3"
  },
  "language_info": {
   "codemirror_mode": {
    "name": "ipython",
    "version": 3
   },
   "file_extension": ".py",
   "mimetype": "text/x-python",
   "name": "python",
   "nbconvert_exporter": "python",
   "pygments_lexer": "ipython3",
   "version": "3.6.1"
  }
 },
 "nbformat": 4,
 "nbformat_minor": 2
}
