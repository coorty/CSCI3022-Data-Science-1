{
 "cells": [
  {
   "cell_type": "markdown",
   "metadata": {},
   "source": [
    "# Lecture 4: Probability Intuition and Random Simulation \n",
    "***\n",
    "\n",
    "In this notebook you'll see how we can use Numpy to run simple probability simulations.  \n",
    "\n",
    "We'll need Numpy and Matplotlib for this notebook, so let's load and setup those libraries. "
   ]
  },
  {
   "cell_type": "code",
   "execution_count": 2,
   "metadata": {
    "collapsed": true
   },
   "outputs": [],
   "source": [
    "import numpy as np \n",
    "import matplotlib.pylab as plt\n",
    "%matplotlib inline "
   ]
  },
  {
   "cell_type": "markdown",
   "metadata": {},
   "source": [
    "### Estimating Simple Probabilities \n",
    "*** \n",
    "\n",
    "In this example we'll see how we can use the Numpy function [random.choice](https://docs.scipy.org/doc/numpy/reference/generated/numpy.random.choice.html) to make random draws from a sample space and estimate the probability of certain random events. As a simple example, consider a fair coin.  We can represent the sample space for this coin with a Numpy array with two entries: \"H\" and \"T\""
   ]
  },
  {
   "cell_type": "code",
   "execution_count": 3,
   "metadata": {
    "collapsed": false
   },
   "outputs": [
    {
     "name": "stdout",
     "output_type": "stream",
     "text": [
      "['H' 'T']\n"
     ]
    }
   ],
   "source": [
    "coin = np.array([\"H\", \"T\"])\n",
    "print(coin)"
   ]
  },
  {
   "cell_type": "markdown",
   "metadata": {},
   "source": [
    "We can simulate flipping the coin using np.random.choice, which returns a randomly selected entry from a Numpy array.  If no optional parameters are passed in, np.random.choice assigns an **equal probability** to each entry of the array.   "
   ]
  },
  {
   "cell_type": "code",
   "execution_count": null,
   "metadata": {
    "collapsed": false
   },
   "outputs": [],
   "source": [
    "for ii in range(5):\n",
    "    print(np.random.choice(coin), end=\" \")"
   ]
  },
  {
   "cell_type": "markdown",
   "metadata": {},
   "source": [
    "We can simulate many flips of the coin and store the results in an array by passing the size parameter to np.random.choice. "
   ]
  },
  {
   "cell_type": "code",
   "execution_count": null,
   "metadata": {
    "collapsed": false
   },
   "outputs": [],
   "source": [
    "flips = np.random.choice(coin, size=10)\n",
    "print(flips)"
   ]
  },
  {
   "cell_type": "markdown",
   "metadata": {},
   "source": [
    "Now suppose we want to run a simple simulation to estimate the probability  that the coin comes up Heads (which we expect to be $0.5$ because the coin is fair).  One way to do this is to do a large number of coin flips and then divide the number of flips that come up Heads by the total number of flips. The following code flips the coin 50 times and computes the desired ratio: "
   ]
  },
  {
   "cell_type": "code",
   "execution_count": null,
   "metadata": {
    "collapsed": false
   },
   "outputs": [],
   "source": [
    "np.random.seed(12345)\n",
    "flips = np.random.choice(coin, size=50)\n",
    "approx_prob_heads = np.sum(flips == \"H\") / len(flips)\n",
    "print(\"the probability of heads is approximately {:.3f}\".format(approx_prob_heads))"
   ]
  },
  {
   "cell_type": "markdown",
   "metadata": {},
   "source": [
    "OK, so the simulation estimated that the probability of the coin coming up heads is $0.36$, which is pretty far off from the $0.5$ that we expected.  This is likely because we didn't do very many coin flips.  Let's see what happens if we rerun the simulation with $500$ coin flips. "
   ]
  },
  {
   "cell_type": "code",
   "execution_count": null,
   "metadata": {
    "collapsed": false
   },
   "outputs": [],
   "source": [
    "flips = np.random.choice(coin, size=500)\n",
    "approx_prob_heads = np.sum(flips == \"H\") / len(flips)\n",
    "print(\"the probability of heads is approximately {:.3f}\".format(approx_prob_heads))"
   ]
  },
  {
   "cell_type": "markdown",
   "metadata": {},
   "source": [
    "With $500$ coin flips our estimate came out to be $0.512$, which seems much better.  It's an interesting exercise to make a plot of the running estimate of the probability as the number of coin flips increases.  We'll use the same random sequence of coin flips from the previous simulation.  \n"
   ]
  },
  {
   "cell_type": "code",
   "execution_count": null,
   "metadata": {
    "collapsed": false
   },
   "outputs": [],
   "source": [
    "p = np.zeros(len(flips))\n",
    "for ii in range(len(p)):\n",
    "    p[ii] = np.sum(flips[:ii+1] == \"H\") / len(flips[:ii+1])\n",
    "    \n",
    "fig, ax = plt.subplots(figsize=(12,6))\n",
    "ax.plot(p, color=\"steelblue\")\n",
    "ax.set_title(\"Running Estimate of Probability of Heads\", fontsize=20)\n",
    "ax.set_xlabel(\"Number of Flips\", fontsize=16)\n",
    "ax.set_ylabel(\"Estimate of Probability\", fontsize=16)\n",
    "\n",
    "ax.grid(True, alpha=0.25)"
   ]
  },
  {
   "cell_type": "markdown",
   "metadata": {},
   "source": [
    "Notice that for very few flips the estimate of the probability is understandably poor.  But as the number of flips increases the estimate settles down to very close to the expected $0.5$. "
   ]
  },
  {
   "cell_type": "markdown",
   "metadata": {},
   "source": [
    "### Exercise 1 - The Biased Coin\n",
    "***\n",
    "\n",
    "Now let's make it more interesting by considering a biased coin where the probability of the coin landing heads is $0.75$.  We can alter the probability with which np.random.choice selects a particular entry of the sample space array by passing in an optional array of probabilities, e.g. p = [0.75, 0.25].  Rerun the simulation from above with the biased coin by passing in such an array of probabilities into np.random.choice. Does your running estimate of the probability of Heads seem to settle down to $0.75$ as expected?  If not, try increasing the number of coin flips until it does. "
   ]
  },
  {
   "cell_type": "code",
   "execution_count": null,
   "metadata": {
    "collapsed": true
   },
   "outputs": [],
   "source": []
  },
  {
   "cell_type": "markdown",
   "metadata": {},
   "source": [
    "### Exercise 2 - Double Tails\n",
    "***\n",
    "\n",
    "Suppose now that you want to estimate the probability that if you flip two fair coins they both come up tails.  First, compute the exact probability by hand, so you know what to expect from your simulation. "
   ]
  },
  {
   "cell_type": "markdown",
   "metadata": {},
   "source": [
    "**Solution**: There are $2 \\times 2 = 4$ possible outcomes for the two coin flips: \"HH\", \"HT\", \"TH\", \"TT\".  The event that both coins come up tails is $E = \\{ TT \\}$. We then have \n",
    "\n",
    "$$\n",
    "p(\\{TT\\}) = \\frac{|\\{TT\\}|}{|\\{HH, HT, TH, TT\\}|} = \\frac{1}{4}\n",
    "$$"
   ]
  },
  {
   "cell_type": "markdown",
   "metadata": {},
   "source": [
    "Now write a simple simulation to estimate the probability of getting two tails when flipping two coins.  Does your estimate from your simulation agree with the result from your computation by hand? "
   ]
  },
  {
   "cell_type": "code",
   "execution_count": null,
   "metadata": {
    "collapsed": false
   },
   "outputs": [],
   "source": [
    "two_coins = np.array([\"HH\", \"HT\", \"TH\", \"TT\"])\n",
    "\n",
    "num_flips = 1000\n",
    "flips = np.random.choice(two_coins, size=num_flips)\n",
    "p = np.zeros(len(flips))\n",
    "for ii in range(len(flips)):\n",
    "    p[ii] = np.sum(flips[:ii+1]==\"TT\") / len(flips[:ii+1])\n",
    "    \n",
    "fig, ax = plt.subplots(figsize=(12,6))\n",
    "ax.plot(p, color=\"steelblue\")\n",
    "ax.set_title(\"Running Estimate of Probability of Two Tails\", fontsize=20)\n",
    "ax.set_xlabel(\"Number of Double Flips\", fontsize=16)\n",
    "ax.set_ylabel(\"Estimate of Probability\", fontsize=16)\n",
    "\n",
    "ax.grid(True, alpha=0.25)\n",
    "\n",
    "print(\"Estimated probability after {} double-flips is {:.3f}\".format(num_flips, p[-1]))"
   ]
  },
  {
   "cell_type": "markdown",
   "metadata": {},
   "source": [
    "### Exercise 3 - Roll the Easy Seven\n",
    "***\n",
    "\n",
    "Suppose you roll a pair of fair six-sided dice.  Compute the probability that the two rolls sum to $7$ by hand. "
   ]
  },
  {
   "cell_type": "markdown",
   "metadata": {},
   "source": [
    "**Solution**: There are $6 \\times 6 = 36$ possible two-dice combinations, each with equal probability of occurring.  Of those 36 combinations there are six that sum to 7.  They are \n",
    "\n",
    "$$\n",
    "\\{(1,6), (2,5), (3,4), (4,3), (5,2), (6,1)\\}\n",
    "$$\n",
    "\n",
    "We then have that the probability of rolling a sum-to-seven is \n",
    "\n",
    "$$\n",
    "p(\\texttt{sum-to-seven}) = \\frac{6}{36} = \\frac{1}{6} = 0.1\\overline{66}\n",
    "$$"
   ]
  },
  {
   "cell_type": "markdown",
   "metadata": {},
   "source": [
    "Now write a simple simulation to estimate the probability. "
   ]
  },
  {
   "cell_type": "code",
   "execution_count": null,
   "metadata": {
    "collapsed": false
   },
   "outputs": [],
   "source": [
    "die = np.array([1,2,3,4,5,6])\n",
    "\n",
    "num_rolls = 5000\n",
    "rolls1 = np.random.choice(die, size=num_rolls)\n",
    "rolls2 = np.random.choice(die, size=num_rolls)\n",
    "p = np.zeros(num_rolls)\n",
    "for ii in range(num_rolls):\n",
    "    p[ii] = np.sum(rolls1[:ii+1] + rolls2[:ii+1] == 7) / len(rolls1[:ii+1])\n",
    "    \n",
    "fig, ax = plt.subplots(figsize=(12,6))\n",
    "ax.plot(p, color=\"steelblue\")\n",
    "ax.set_title(\"Running Estimate of Probability of Sum-to-Seven\", fontsize=20)\n",
    "ax.set_xlabel(\"Number of Rolls\", fontsize=16)\n",
    "ax.set_ylabel(\"Estimate of Probability\", fontsize=16)\n",
    "\n",
    "ax.grid(True, alpha=0.25)\n",
    "\n",
    "print(\"Estimated probability after {} rolls is {:.3f}\".format(num_rolls, p[-1]))"
   ]
  },
  {
   "cell_type": "markdown",
   "metadata": {},
   "source": [
    "### Exercise 4 - The Birthday Game \n",
    "***\n",
    "\n",
    "Suppose you have $n$ people in a room.  What is the probability that two or more people in the room have the same birthday? "
   ]
  },
  {
   "cell_type": "code",
   "execution_count": null,
   "metadata": {
    "collapsed": true
   },
   "outputs": [],
   "source": [
    "def random_bday():\n",
    "    \n",
    "    # Dictionary telling how many days are in each month  \n",
    "    days_in_month = {\"Jan\" : 31, \"Feb\" : 28, \"Mar\" : 31, \"Apr\" : 30, \"May\" : 31, \"Jun\" : 30, \"Jul\" : 31, \"Aug\" : 31, \n",
    "                     \"Sep\" : 30, \"Oct\" : 31, \"Nov\" : 30, \"Dec\" : 31}\n",
    "    # Array of months \n",
    "    months = np.array(list(days_in_month.keys()))\n",
    "    \n",
    "    # Probability of randomly selecting each month \n",
    "    month_probs = np.array(list(days_in_month.values()))/365\n",
    "    \n",
    "    # Draw random month \n",
    "    m = np.random.choice(months, p=month_probs)\n",
    "    \n",
    "    # Draw random day of month \n",
    "    d = np.random.choice(range(1,days_in_month[m]+1))\n",
    "    \n",
    "    return m + \" \" + str(d)\n",
    "    "
   ]
  },
  {
   "cell_type": "code",
   "execution_count": null,
   "metadata": {
    "collapsed": true
   },
   "outputs": [],
   "source": [
    "def birthday_game(num_people):\n",
    "    \n",
    "    # draw random birthday for each person in the room \n",
    "    birthdays = [random_bday() for ii in range(num_people)]\n",
    "    \n",
    "    # check if there is a birthday match \n",
    "    return True if len(set(birthdays)) < len(birthdays) else False \n"
   ]
  },
  {
   "cell_type": "code",
   "execution_count": null,
   "metadata": {
    "collapsed": false
   },
   "outputs": [],
   "source": [
    "def birthday_sim(num_people, num_trials=1000):\n",
    "    \n",
    "    # Simulate num_trials of the birthday game \n",
    "    random_rooms = [birthday_game(num_people) for ii in range(num_trials)]\n",
    "    \n",
    "    # Print fraction of trials where birthday match occurred \n",
    "    print('The approximate probability of a birthday match in a room of {} people is {:.16f}'.format(num_people,np.sum(random_rooms)/num_trials))"
   ]
  },
  {
   "cell_type": "code",
   "execution_count": null,
   "metadata": {
    "collapsed": false
   },
   "outputs": [],
   "source": [
    "birthday_sim(60)"
   ]
  },
  {
   "cell_type": "markdown",
   "metadata": {},
   "source": [
    "### Exercise 4 - Number of Flips Until Double Heads\n",
    "***\n",
    "\n",
    "Later we'll see that we can use probabilities to compute average quantities of interest.  For instance, we could compute the average number of coin flips we have to do until we flip two Heads in a row.  Can you write a simulation to estimate this? Can you extend this to $m$ Heads in a row? "
   ]
  },
  {
   "cell_type": "code",
   "execution_count": 15,
   "metadata": {
    "collapsed": false,
    "scrolled": true
   },
   "outputs": [
    {
     "name": "stdout",
     "output_type": "stream",
     "text": [
      "on average we get 3 heads in a row after 14.023 flips\n"
     ]
    }
   ],
   "source": [
    "def heads_in_a_row(m=2):\n",
    "    \n",
    "    hist = np.random.choice(coin, size=m)\n",
    "    \n",
    "    ctr = m \n",
    "    \n",
    "    while True:\n",
    "        if np.all(hist == \"H\"):\n",
    "            return ctr \n",
    "        else:\n",
    "            hist[:m-1] = hist[1:]\n",
    "            hist[-1] = np.random.choice(coin)\n",
    "            ctr += 1 \n",
    "    \n",
    "def in_a_row_sim(n=1000, m=2):\n",
    "    \n",
    "    times = [heads_in_a_row(m) for ii in range(n)]\n",
    "    mean_time = np.mean(times)\n",
    "    print(\"on average we get {} heads in a row after {:.3f} flips\".format(m, mean_time))\n",
    "    \n",
    "in_a_row_sim(n=10000, m=3)"
   ]
  },
  {
   "cell_type": "markdown",
   "metadata": {},
   "source": [
    "### Challenge Exercise - Poker Hands\n",
    "***\n",
    "\n",
    "Consider drawing a hand of five-card poker.  Write a simulation to estimate the probability of being dealt common hands like two pair, a straight, a flush, or a full house.  You can check your estimate for the probability of particular hands [here](http://www.math.hawaii.edu/~ramsey/Probability/PokerHands.html). Note that there are around 2.5 million distinct hands in 5-card poker, so to get accurate probability estimates you'll probably have to simulate **many** hands.   \n",
    "\n",
    "Notice that drawing cards from a deck is slightly different than flipping a coin and rolling a die, because once we've drawn a card, that card is no longer in the deck for the remaining draws.  You can implement this behavior with np.random.choice using the parameter replace=False. "
   ]
  },
  {
   "cell_type": "code",
   "execution_count": null,
   "metadata": {
    "collapsed": false
   },
   "outputs": [],
   "source": [
    "deck = np.array([suit+val for suit in [\"H\", \"D\", \"S\", \"C\"] for val in [\"A\", \"2\", \"3\", \"4\", \"5\", \"6\", \"7\", \"8\", \"9\", \"10\", \"11\", \"12\", \"13\"]])   \n",
    "\n",
    "def is_straight(hand):\n",
    "    \n",
    "    values = set(card[1:] for card in hand)\n",
    "    \n",
    "    if len(values) != 5:\n",
    "        return False\n",
    "    else:\n",
    "        series = []\n",
    "        if \"A\" in values:\n",
    "            series.append(np.array([1 if val == \"A\" else int(val) for val in values]))\n",
    "            series.append(np.array([14 if val == \"A\" else int(val) for val in values]))\n",
    "        else:\n",
    "            series.append(np.array([int(val) for val in values]))\n",
    "        for s in series: \n",
    "            if np.max(s) - np.min(s) == 4:\n",
    "                return True \n",
    "        return False\n",
    "            \n",
    "def is_high_straight(hand):\n",
    "    vals = set(card[1:] for card in hand)\n",
    "    return True if vals == set([\"10\", \"11\", \"12\", \"13\", \"A\"]) else False \n",
    "\n",
    "def is_same_suit(hand):\n",
    "    suits = set(card[0] for card in hand)\n",
    "    return True if len(suit) == 1 else False  \n",
    "\n",
    "def n_of_a_kind(hand, n):\n",
    "    vals = [card[1:] for card in hand]\n",
    "    counts = np.array([vals.count(val) for val in set(vals)])\n",
    "    return np.sum(counts==n)\n",
    "    \n"
   ]
  },
  {
   "cell_type": "code",
   "execution_count": null,
   "metadata": {
    "collapsed": false
   },
   "outputs": [],
   "source": [
    "num_hands = 3000000\n",
    "hands = [np.random.choice(deck, size=5, replace=False) for ii in range(num_hands)]\n",
    "\n",
    "prob_two_pair = np.sum([n_of_a_kind(hand, 2) == 2 for hand in hands])/len(hands)\n",
    "print(\"The approximate probability of two pair is {:.8f}\".format(prob_two_pair))\n",
    "\n",
    "prob_trip = np.sum([n_of_a_kind(hand, 3) == 1 for hand in hands])/len(hands)\n",
    "print(\"The approximate probability of a three of a kind is {:.8f}\".format(prob_trip))\n",
    "\n",
    "prob_full = np.sum([(n_of_a_kind(hand, 2) == 1) and (n_of_a_kind(hand,3) == 1) for hand in hands])/len(hands)\n",
    "print(\"The approximate probability of a three of a full house is {:.8f}\".format(prob_full))\n",
    "\n",
    "prob_quad = np.sum([n_of_a_kind(hand, 4) == 1 for hand in hands])/len(hands)\n",
    "print(\"The approximate probability of a four of a kind is {:.8f}\".format(prob_quad))\n",
    "\n",
    "prob_straight = np.sum([is_straight(hand) and not is_same_suit(hand) for hand in hands])/len(hands)\n",
    "print(\"The approximate probability of a straight is {:.8f}\".format(prob_straight))\n",
    "\n",
    "prob_flush = np.sum([is_flush(hand) and not is_straight(hand) for hand in hands])/len(hands)\n",
    "print(\"The approximate probability of a flush is {:.8f}\".format(prob_flush))\n",
    "\n",
    "prob_straight_flush = np.sum([is_flush(hand) and is_straight(hand) and not is_high_straight(hand) for hand in hands])/len(hands)\n",
    "print(\"The approximate probability of a straight flush is {:.8f}\".format(prob_straight_flush))\n",
    "\n",
    "prob_royal_flush = np.sum([is_flush(hand) and is_high_straight(hand) for hand in hands])/len(hands)\n",
    "print(\"The approximate probability of a royal flush is {:.8f}\".format(prob_royal_flush))"
   ]
  },
  {
   "cell_type": "code",
   "execution_count": null,
   "metadata": {
    "collapsed": true
   },
   "outputs": [],
   "source": []
  }
 ],
 "metadata": {
  "kernelspec": {
   "display_name": "Python 3",
   "language": "python",
   "name": "python3"
  },
  "language_info": {
   "codemirror_mode": {
    "name": "ipython",
    "version": 3
   },
   "file_extension": ".py",
   "mimetype": "text/x-python",
   "name": "python",
   "nbconvert_exporter": "python",
   "pygments_lexer": "ipython3",
   "version": "3.5.2"
  }
 },
 "nbformat": 4,
 "nbformat_minor": 2
}
