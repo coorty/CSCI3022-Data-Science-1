{
 "cells": [
  {
   "cell_type": "markdown",
   "metadata": {},
   "source": [
    "# Lecture 17: Introduction to Hypothesis Testing \n",
    "***\n",
    "\n",
    "We'll need Numpy, Matplotlib, and scipy.stats for this notebook, so let's load them. "
   ]
  },
  {
   "cell_type": "code",
   "execution_count": 59,
   "metadata": {
    "collapsed": true
   },
   "outputs": [],
   "source": [
    "import numpy as np \n",
    "from scipy import stats\n",
    "import matplotlib.pylab as plt \n",
    "%matplotlib inline"
   ]
  },
  {
   "cell_type": "markdown",
   "metadata": {},
   "source": [
    "### Exercise 1 - Detecting Clairvoyants \n",
    "*** \n",
    "\n",
    "Graduate students in CU's little-known Parapsychology Department are conducting an experiment to test for clairvoyant abilities in CU's undergraduate population.  Their experiment involves drawing a card randomly from a standard deck, showing the student the back of the card, and asking them to predict whether the card is black or red. They repeat this test 100 times and record the number of cards that the student gets correct.  They've just finished testing a particularly enthusiastic student named Gandalf (his real name is Lawrence, but he insists that people call him Gandalf) who is quite adamant that he has psychic abilities. \n",
    "\n",
    "**Part A**: Let $p$ be the proportion of cards that the population gets correct.  Write down the Null hypothesis $H_0$ and alternate hypothesis $H_1$ that can be employed to test whether Gandalf is clairvoyant or not. "
   ]
  },
  {
   "cell_type": "code",
   "execution_count": null,
   "metadata": {
    "collapsed": true
   },
   "outputs": [],
   "source": []
  },
  {
   "cell_type": "markdown",
   "metadata": {},
   "source": [
    "**Part B**: There are four possibilities for the results of the test: \n",
    "\n",
    "$\\textrm{1.}$ The test indicates that Gandalf is clairvoyant, but in reality he is not clairvoyant \n",
    "\n",
    "$\\textrm{2.}$ The test indicates that Gandalf is clairvoyant, and in reality he is clairvoyant \n",
    "\n",
    "$\\textrm{3.}$ The test indicates that Gandalf is not clairvoyant, and in reality he is not clairvoyant \n",
    "\n",
    "$\\textrm{4.}$ The test indicates that Gandalf is not clairvoyant, and in reality he is clairvoyant \n",
    "\n",
    "**Match** each of the cases with the following: \n",
    "\n",
    "a. We correctly fail to reject the Null hypothesis  \n",
    "\n",
    "b. We correctly reject the Null hypothesis \n",
    "\n",
    "c. We commit a Type I Error \n",
    "\n",
    "d. We commit a Type II Error "
   ]
  },
  {
   "cell_type": "code",
   "execution_count": null,
   "metadata": {
    "collapsed": true
   },
   "outputs": [],
   "source": []
  },
  {
   "cell_type": "markdown",
   "metadata": {},
   "source": [
    "**Part C**: Suppose we want to perform a hypothesis test at significance level $\\alpha$. Describe the test that we should perform in terms of a critical value of the standard unit normal. "
   ]
  },
  {
   "cell_type": "code",
   "execution_count": null,
   "metadata": {
    "collapsed": true
   },
   "outputs": [],
   "source": []
  },
  {
   "cell_type": "markdown",
   "metadata": {},
   "source": [
    "**Part D**: In Gandalf's test he correctly guessed the color of 60 of the 100 cards.  Prior to starting the experiment, one of the Grad students suggested performing hypothesis tests at the $\\alpha = 0.05$ significance level (but was eventually outvoted in favor of a stricter test).  Suppose that we performed the hypothesis test you described in **Part C** at the $\\alpha = 0.05$ significance level. Would the test indicate that Gandalf likely is or is not clairvoyant?  "
   ]
  },
  {
   "cell_type": "code",
   "execution_count": null,
   "metadata": {
    "collapsed": true
   },
   "outputs": [],
   "source": []
  },
  {
   "cell_type": "markdown",
   "metadata": {},
   "source": [
    "**Part E**: Remember that it is important to consider the costs associated with rejecting the Null hypothesis when setting the significance level.  Since the Grad students knew that Lawrence would become even more insufferable if it is confirmed that he is clairvoyant, they decided that they should perform hypothesis tests at the $\\alpha = 0.01$ significance level. Redo the test from **Part D** at this significance level. "
   ]
  },
  {
   "cell_type": "code",
   "execution_count": null,
   "metadata": {
    "collapsed": true
   },
   "outputs": [],
   "source": []
  },
  {
   "cell_type": "markdown",
   "metadata": {},
   "source": [
    "**Part F**: Determine the fewest number of cards that a test subject must get correct in order to reject the null hypothesis at the $\\alpha = 0.01$ significance level. "
   ]
  },
  {
   "cell_type": "code",
   "execution_count": null,
   "metadata": {
    "collapsed": true
   },
   "outputs": [],
   "source": []
  },
  {
   "cell_type": "markdown",
   "metadata": {},
   "source": [
    "### Exercise 2 -  Life Expectancy of the 1999 Volkswagen Jetta \n",
    "*** \n",
    "\n",
    "The 1999 Volkswagen Jetta was one of the first Volkswagen models produced both in Germany and Mexico. Over the course of the next two decades, extensive data was collected on the life expectancy of the Jettas produced in Germany, and they were found to follow a normal distribution with mean $300$ thousand miles and standard deviation $100$ thousand miles.  Less data has been collected on the life expectancy of 1999 Jettas made in Mexico.  But, we have a small sample of $1000$ reports on the life expectancy of models made in Mexico, the sample mean of which was $200$ thousand miles.  \n",
    "\n",
    "**Part A**: Write down a Null hypothesis and alternative hypothesis to test the claim that there is statistical evidence that 1999 Jettas made in Mexico have a smaller life expectancy that those made in Germany. "
   ]
  },
  {
   "cell_type": "code",
   "execution_count": null,
   "metadata": {
    "collapsed": true
   },
   "outputs": [],
   "source": []
  },
  {
   "cell_type": "markdown",
   "metadata": {},
   "source": [
    "**Part B**: Suppose we test the alternative hypothesis at the $\\alpha = 0.01$ significance level.  Describe the details of the test to be performed. "
   ]
  },
  {
   "cell_type": "code",
   "execution_count": null,
   "metadata": {
    "collapsed": true
   },
   "outputs": [],
   "source": []
  },
  {
   "cell_type": "markdown",
   "metadata": {},
   "source": [
    "**Part C**: Carry out the test described above.  Is there sufficient evidence to conclude that, in fact, 1999 Jettas made in Mexico have a shorter life expectancy that those made in Germany? "
   ]
  },
  {
   "cell_type": "code",
   "execution_count": null,
   "metadata": {
    "collapsed": true
   },
   "outputs": [],
   "source": []
  },
  {
   "cell_type": "markdown",
   "metadata": {},
   "source": [
    "### Exercise 3 - Investigating the Type I Error Rate vs Significance Level \n",
    "*** \n",
    "\n",
    "Let's investigate the frequency with which we get Type I Errors in a two-tailed hypothesis test relative to the significance level $\\alpha$.  For this experiment, we'll use the Poisson distribution with parameter $\\lambda_0$ as the true model of our population.  Recall that if $X \\sim Pois(\\lambda_0)$ then $E[X] = \\lambda_0$ and $\\textrm{Var}(X) = \\lambda_0$.  If we draw a sample and compute its sample mean, we might ask, is there sufficient evidence to conclude that our population has a different mean than our sample by proposing the following hypotheses: \n",
    "\n",
    "$$\n",
    "H_0: \\lambda = \\lambda_0 \\\\ \n",
    "H_1: \\lambda \\neq\\lambda_0 \\\\ \n",
    "$$\n",
    "\n",
    "Complete the function check_error_rate that takes in a large ($> 30$) integer $n$ indicating the sample size and the true mean of the population $\\lambda_0$.  Your function should generate many random samples from $Pois(\\lambda)$ and, for each sample mean, perform a two-tailed hypothesis test and keep track of the number of times the Null hypothesis is (incorrectly) rejected.  "
   ]
  },
  {
   "cell_type": "code",
   "execution_count": null,
   "metadata": {
    "collapsed": true
   },
   "outputs": [],
   "source": [
    "def check_error_rate(n, lam0, alpha=0.05, num_tests=1000):\n",
    "    \n",
    "    ctr = 0\n",
    "    zao2 = 0.0 # TODO \n",
    "    \n",
    "    for ii in range(num_tests):\n",
    "        # Draw a sample of size n from Pois(lam0)\n",
    "        x = np.random.poisson(lam0, size=n)\n",
    "        # Compute the sample mean \n",
    "        xbar = 1.0 # TODO \n",
    "        # Perform hypothesis test \n",
    "        z = 0.0 # TO DO \n",
    "            \n",
    "    print(\"Type I Error Rate: {:.4f}\".format(ctr/num_tests))\n",
    "    \n",
    "check_error_rate(500, 10, alpha=0.05, num_tests=10000)"
   ]
  },
  {
   "cell_type": "code",
   "execution_count": null,
   "metadata": {
    "collapsed": true
   },
   "outputs": [],
   "source": []
  }
 ],
 "metadata": {
  "kernelspec": {
   "display_name": "Python 3",
   "language": "python",
   "name": "python3"
  },
  "language_info": {
   "codemirror_mode": {
    "name": "ipython",
    "version": 3
   },
   "file_extension": ".py",
   "mimetype": "text/x-python",
   "name": "python",
   "nbconvert_exporter": "python",
   "pygments_lexer": "ipython3",
   "version": "3.6.1"
  }
 },
 "nbformat": 4,
 "nbformat_minor": 2
}
