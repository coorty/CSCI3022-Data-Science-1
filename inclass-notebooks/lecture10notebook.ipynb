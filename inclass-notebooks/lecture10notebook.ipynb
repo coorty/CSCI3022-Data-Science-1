{
 "cells": [
  {
   "cell_type": "markdown",
   "metadata": {},
   "source": [
    "# Lecture 10: The Expected Value of Random Variables\n",
    "***\n",
    "\n",
    "We'll need Numpy, Matplotlib, and possibly Pandas for this notebook, so let's load them. "
   ]
  },
  {
   "cell_type": "code",
   "execution_count": null,
   "metadata": {
    "collapsed": true
   },
   "outputs": [],
   "source": [
    "import numpy as np \n",
    "import matplotlib.pylab as plt \n",
    "import pandas as pd \n",
    "%matplotlib inline"
   ]
  },
  {
   "cell_type": "markdown",
   "metadata": {},
   "source": [
    "### Exercise 1 - Chuck-a-luck \n",
    "*** \n",
    "\n",
    "The game **Chuck-a-luck** (found in fairgrounds) is played by rolling 3 dice and betting\n",
    "on a number between 1 and 6. You win your bet multiplied by the number of times your\n",
    "chosen number appears on the the three dice. You lose your bet if your number doesn't appear at all. For example \n",
    "\n",
    "- If you bet $\\$1$ on $5$ and you roll $\\{3,~4,~5\\}$ then you get to keep your $\\$1$ plus you win another $\\$1$. \n",
    "- If you bet $\\$1$ on $5$ and roll $\\{4,~5,~5\\}$ you get to keep your $\\$1$ plus you win $\\$2$. \n",
    "- On the other hand, if you bet $\\$1$ on $5$ and roll $\\{2,~3,~4\\}$ then you lose your $\\$1$. \n",
    "\n",
    "A quick look at this game may make it appear reasonably fair. Since you roll 3\n",
    "dice and there seems to be a probability $\\frac{1}{2}$ that your chosen number appears and so the\n",
    "odds should be in your favor.\n",
    "\n",
    "**Part A**: Let's write a function called chuck_a_trial that takes as its sole required argument the integer my_number that you bet on and returns your winnings or losses. To make things simple, we'll assume that we always bet $\\$1$ on every roll.  If you like, you can add an optional verbose flag for printing helpful output. "
   ]
  },
  {
   "cell_type": "code",
   "execution_count": null,
   "metadata": {
    "collapsed": true
   },
   "outputs": [],
   "source": []
  },
  {
   "cell_type": "markdown",
   "metadata": {},
   "source": [
    "**Part B**: Write a function chuck_a_sim that takes the integer my_number that you bet on and runs many simulations of chuck_a_trial and computes your average winnings over all of the trials.  To control the number of trials in your simulation, add an optional parameter num_trials initialized to 1000. "
   ]
  },
  {
   "cell_type": "code",
   "execution_count": null,
   "metadata": {
    "collapsed": true
   },
   "outputs": [],
   "source": []
  },
  {
   "cell_type": "markdown",
   "metadata": {},
   "source": [
    "**Part C**: Based on your simulation above, how fair or unfair is this game?  Or said another way, how much do you expect to win/lose if you play this game for a very long time? "
   ]
  },
  {
   "cell_type": "code",
   "execution_count": null,
   "metadata": {
    "collapsed": true
   },
   "outputs": [],
   "source": []
  },
  {
   "cell_type": "markdown",
   "metadata": {},
   "source": [
    "### Exercise 2 - Simulating Roulette\n",
    "*** \n",
    "\n",
    "A Las Vegas roulette board contains 38 numbers $\\{0, 00, 1, 2, \\ldots, 36\\}$. Of the non-zero numbers, 18 are red and 18 are black. You can place bets on various number/color combinations and each type of bet pays-out at a different rate.  For example: \n",
    "\n",
    "- If you bet $\\$1$ on red (or black) and win you win $\\$1$. \n",
    "- If you bet any particular number and win you win $\\$35$. \n",
    "- If you bet on the first dozen (or second dozen, or third dozen) nonzero numbers and win you win $\\$2$. \n",
    "\n",
    "![alt text](https://www.lasvegasdirect.com/wp-content/uploads/2016/09/American-Roulette-Table.gif)\n",
    "\n",
    "It seems like there are so many ways to win!  In reality, some very careful probability theory was done by the game designers to ensure that there is not much difference in any particular payout.  We'll explore roulette both by simulation and by hand in this exercise. \n",
    "\n",
    "The following function simulates the spin of a Las Vegas roulette board.  "
   ]
  },
  {
   "cell_type": "code",
   "execution_count": null,
   "metadata": {},
   "outputs": [],
   "source": [
    "def spin_roulette():\n",
    "    numbers = np.array([\"0\", \"00\"] + [str(ii) for ii in range(1,36+1)])\n",
    "    red = [str(ii) for ii in [1,3,5,7,9,12,14,16,18,19,21,23,25,27,30,32,34,36]] \n",
    "    black = [str(ii) for ii in [2,4,6,8,10,11,13,15,17,20,22,24,26,29,29,31,33,35]]\n",
    "    green = [\"0\", \"00\"]\n",
    "    number = np.random.choice(numbers)\n",
    "    color = \"R\" if number in red else \"B\" if number in black else \"G\"\n",
    "    return number+color\n",
    "\n",
    "spin_roulette()"
   ]
  },
  {
   "cell_type": "markdown",
   "metadata": {},
   "source": [
    "**Part A**: Write a function that estimates the expected winnings by betting on red (or black)"
   ]
  },
  {
   "cell_type": "code",
   "execution_count": null,
   "metadata": {
    "scrolled": true
   },
   "outputs": [],
   "source": []
  },
  {
   "cell_type": "markdown",
   "metadata": {},
   "source": [
    "**Part B**: Write a function that estimates the expected winnings by betting on a particular number. "
   ]
  },
  {
   "cell_type": "code",
   "execution_count": null,
   "metadata": {},
   "outputs": [],
   "source": []
  },
  {
   "cell_type": "markdown",
   "metadata": {},
   "source": [
    "**Part C**: Write a function that estimates the expected winnings by betting on the first dozen nonzero numbers. "
   ]
  },
  {
   "cell_type": "code",
   "execution_count": null,
   "metadata": {},
   "outputs": [],
   "source": []
  },
  {
   "cell_type": "markdown",
   "metadata": {},
   "source": [
    "**Part D**: Do you see a pattern?! Let's see if we can confirm our hypothesis.  First, compute the exact expectation of your winnings by betting on red. "
   ]
  },
  {
   "cell_type": "code",
   "execution_count": null,
   "metadata": {
    "collapsed": true
   },
   "outputs": [],
   "source": []
  },
  {
   "cell_type": "markdown",
   "metadata": {},
   "source": [
    "**Part E**: Now compute the exact expectation of your winnings by betting on any particular number. Remember that the payout for hitting a number is $35$ to $1$.  "
   ]
  },
  {
   "cell_type": "code",
   "execution_count": null,
   "metadata": {
    "collapsed": true
   },
   "outputs": [],
   "source": []
  },
  {
   "cell_type": "markdown",
   "metadata": {},
   "source": [
    "**Part F**: Finally, compute the expected winnings by betting on any dozen nonzero numbers.  Remember that the payout for hitting the correct dozen is 2 to 1.  \n",
    "\n"
   ]
  },
  {
   "cell_type": "code",
   "execution_count": null,
   "metadata": {
    "collapsed": true
   },
   "outputs": [],
   "source": []
  },
  {
   "cell_type": "markdown",
   "metadata": {},
   "source": [
    "**Part G**: OK, so you're hopefully onto the pattern by now.  Based on the computations done above, can you come up with the odds function $f(n)$ that describes the payout odds for landing on 1 out of $n$ squares? \n",
    "\n"
   ]
  },
  {
   "cell_type": "code",
   "execution_count": null,
   "metadata": {
    "collapsed": true
   },
   "outputs": [],
   "source": []
  },
  {
   "cell_type": "markdown",
   "metadata": {},
   "source": [
    "## Exercise 3 - The Expected Triangle\n",
    "*** \n",
    "\n",
    "Suppose we choose arbitrarily a point from the square with corners at $(0,0)$, $(1,0)$, $(1,1)$, and $(0,1)$. Let the random variable $A$ be the area of the triangle with its corners at $(0,0)$, $(1,0)$, and the chosen point. \n",
    "\n",
    "![alt text](https://www.cs.colorado.edu/~ketelsen/files/courses/csci3022/figs/triangle.png)\n",
    "\n",
    "**Part A**: Compute by hand the expected area of the triangle, $E[A]$. "
   ]
  },
  {
   "cell_type": "code",
   "execution_count": null,
   "metadata": {
    "collapsed": true
   },
   "outputs": [],
   "source": []
  },
  {
   "cell_type": "markdown",
   "metadata": {},
   "source": [
    "**Part B**: Write a brief simulation to confirm the by-hand computation you did in **Part A**. "
   ]
  },
  {
   "cell_type": "code",
   "execution_count": null,
   "metadata": {
    "collapsed": true
   },
   "outputs": [],
   "source": []
  },
  {
   "cell_type": "markdown",
   "metadata": {},
   "source": [
    "## Exercise 4 - Rising Temperatures\n",
    "*** \n",
    "\n",
    "Let $X$ be a random variable describing the temperature in degrees Celsius in a town in the Southwester United States with probability density function \n",
    "\n",
    "$$\n",
    "f(x) = \\left\\{\n",
    "\\begin{array}{cl}\n",
    "\\frac{2}{5}\\left[\\left(\\frac{x}{50}\\right)^3 - \\left(\\frac{x}{50}\\right)^4 \\right] & 0 \\leq x \\leq 50 \\\\\n",
    "0 & \\textrm{otherwise}\n",
    "\\end{array}\n",
    "\\right. \n",
    "$$\n",
    "\n",
    "\n",
    "**Part A**: Compute by hand (or WolframAlpha) the expected temperature in degrees Celsius on any given day. "
   ]
  },
  {
   "cell_type": "code",
   "execution_count": null,
   "metadata": {
    "collapsed": true
   },
   "outputs": [],
   "source": []
  },
  {
   "cell_type": "markdown",
   "metadata": {},
   "source": [
    "**Part B**: Use your result from **Part A** to compute the expected temperature in degrees Fahrenheit.  "
   ]
  },
  {
   "cell_type": "code",
   "execution_count": null,
   "metadata": {
    "collapsed": true
   },
   "outputs": [],
   "source": []
  }
 ],
 "metadata": {
  "kernelspec": {
   "display_name": "Python 3",
   "language": "python",
   "name": "python3"
  },
  "language_info": {
   "codemirror_mode": {
    "name": "ipython",
    "version": 3
   },
   "file_extension": ".py",
   "mimetype": "text/x-python",
   "name": "python",
   "nbconvert_exporter": "python",
   "pygments_lexer": "ipython3",
   "version": "3.6.1"
  }
 },
 "nbformat": 4,
 "nbformat_minor": 2
}
