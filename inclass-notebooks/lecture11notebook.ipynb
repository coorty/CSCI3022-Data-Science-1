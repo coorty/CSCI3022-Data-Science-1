{
 "cells": [
  {
   "cell_type": "markdown",
   "metadata": {},
   "source": [
    "# Lecture 11: The Expectation and Variance of Random Variables\n",
    "***\n",
    "\n",
    "We'll need Numpy and Matplotlib for this notebook, so let's load them. "
   ]
  },
  {
   "cell_type": "code",
   "execution_count": null,
   "metadata": {
    "collapsed": true
   },
   "outputs": [],
   "source": [
    "import numpy as np \n",
    "import matplotlib.pylab as plt \n",
    "%matplotlib inline"
   ]
  },
  {
   "cell_type": "markdown",
   "metadata": {},
   "source": [
    "### Exercise 1 - Easy Peasy Plinko \n",
    "*** \n",
    "\n",
    "[Plinko](http://priceisright.wikia.com/wiki/Plinko), the shining jewel of the gameshow [Price is Right](https://en.wikipedia.org/wiki/The_Price_Is_Right), is a staple of American culture.  Luckily for us, it's also chalk-full of interesting ideas from probability and statistics. The game involves dropping a disc onto an inclined board of pegs and letting it bounce around until it lands in a bin with an associated cash value. Players get to drop some number of discs down the Plinko board and keep their winnings.   \n",
    "\n",
    "In this exercise, we'll look at a simplified version of Plinko, with the following layout: \n",
    "\n",
    "![alt text](https://www.cs.colorado.edu/~ketelsen/files/courses/csci3022/figs/plinko_small.png)\n",
    "\n",
    "Note that in this simplified version of Plinko there are $6$ rows of pegs and $7$ bins with monetary values $\\$0 - \\$6$.  Finally, the player is required to drop the disc directly onto the single peg in the top-most row. \n",
    "\n",
    "**Part A**: Write a function plinko_trial that takes as arguments the number of rows of pegs $n$, and the probability $p$ that a disc falls to the _right_ when it hits a peg, and returns the value of the bin that it lands in. "
   ]
  },
  {
   "cell_type": "code",
   "execution_count": null,
   "metadata": {
    "collapsed": true
   },
   "outputs": [],
   "source": []
  },
  {
   "cell_type": "markdown",
   "metadata": {},
   "source": [
    "**Part B**: Write a function plinko_sim that takes as arguments the number of rows of pegs $n$, and the probability $p$ that a disc falls to the _right_ when it hits a peg, and the number of Plinko trials to simulate, and returns an estimate of the expected value of the winnings from a single round of Plinko.  Run your simulation with $p=0.5$ and observe the results.  Can you make a hypothesis about the expected value of random variable describing the winnings? "
   ]
  },
  {
   "cell_type": "code",
   "execution_count": null,
   "metadata": {
    "collapsed": true
   },
   "outputs": [],
   "source": []
  },
  {
   "cell_type": "markdown",
   "metadata": {},
   "source": [
    "**Part C**: The following function, plinko_plot, uses the plinko_trial function you wrote in **Part A** and plots running estimates of the expected winnings for Plinko boards with various numbers of rows.  Execute the function with $n=6, ~100,$ and $500$ and comment on any observations that you make. "
   ]
  },
  {
   "cell_type": "code",
   "execution_count": null,
   "metadata": {
    "collapsed": true
   },
   "outputs": [],
   "source": [
    "def plinko_plot(num_rows=[6], p=0.5, num_trials=int(1e3), reveal=False):\n",
    "    \n",
    "    np.random.seed(1234)\n",
    "    \n",
    "    fig, axes = plt.subplots(nrows=len(num_rows), ncols=1, figsize=(12,3*len(num_rows)))\n",
    "    \n",
    "    for ii, n in enumerate(num_rows):\n",
    "        winnings = np.array([plinko_trial(n, p) for kk in range(num_trials)])\n",
    "        estimates = np.array([np.mean(winnings[:ii]) for ii in range(1,num_trials)])\n",
    "        if not reveal: \n",
    "            axes[ii].plot(range(1,num_trials), estimates)\n",
    "        else:\n",
    "            vstr = \"{:.1f}\".format(.25*n)\n",
    "            axes[ii].plot(range(1,num_trials), estimates, label=r\"Var(X) = \"+vstr)\n",
    "        axes[ii].grid(True, alpha=0.25)\n",
    "        mu = n*p\n",
    "        axes[ii].set_xlabel(\"Number of Trials\", fontsize=16)\n",
    "        axes[ii].set_ylabel(\"Estimate\", fontsize=16)\n",
    "        axes[ii].set_title(\"Plinko with {} Rows\".format(n), fontsize=16)\n",
    "        axes[ii].set_ylim([mu-1, mu+1])\n",
    "        plt.sca(axes[ii])\n",
    "        plt.yticks(np.linspace(mu-1,mu+1,5), fontsize=12)\n",
    "        plt.xticks(np.linspace(0,num_trials,6), fontsize=12)\n",
    "        if reveal:\n",
    "            axes[ii].legend(loc = \"upper right\")\n",
    "        \n",
    "    fig.subplots_adjust(hspace=0.8)\n",
    "        \n",
    "plinko_plot([6,100,500], num_trials=int(1e3))"
   ]
  },
  {
   "cell_type": "markdown",
   "metadata": {},
   "source": [
    "**Part D**: Suppose you were the devious owner of a 10-row Easy Peasy Plinko game and you wanted to make some money off of some unsuspecting carnival goers.  For a given value of $p$ (which you can set by subtly adjusting the placement of pegs) how much should you charge someone to play your game so that you pocket, on average, $\\$1$ per game played? "
   ]
  },
  {
   "cell_type": "code",
   "execution_count": null,
   "metadata": {
    "collapsed": true
   },
   "outputs": [],
   "source": []
  },
  {
   "cell_type": "markdown",
   "metadata": {},
   "source": [
    "### Exercise 2\n",
    "*** \n",
    "\n",
    "The probability distribution of a discrete random variable $X$ is given by \n",
    "\n",
    "$$\n",
    "P(X = -1) = \\frac{1}{5}, \\quad P(X = 0) = \\frac{2}{5}, \\quad P(X = 1) = \\frac{2}{5}\n",
    "$$\n",
    "\n",
    "**Part A**: Compute $E[X]$\n"
   ]
  },
  {
   "cell_type": "code",
   "execution_count": null,
   "metadata": {
    "collapsed": true
   },
   "outputs": [],
   "source": []
  },
  {
   "cell_type": "markdown",
   "metadata": {},
   "source": [
    "**Part B**: Give the probability distribution of the random variable $Y = X^2$ and compute $E[Y]$ using the distribution of $Y$. "
   ]
  },
  {
   "cell_type": "code",
   "execution_count": null,
   "metadata": {
    "collapsed": true
   },
   "outputs": [],
   "source": []
  },
  {
   "cell_type": "markdown",
   "metadata": {},
   "source": [
    "**Part C**: Determine $E[X^2]$ using the change-of-variables formula. Check your answer against the one from **Part B**. "
   ]
  },
  {
   "cell_type": "code",
   "execution_count": null,
   "metadata": {
    "collapsed": true
   },
   "outputs": [],
   "source": []
  },
  {
   "cell_type": "markdown",
   "metadata": {},
   "source": [
    "**Part D**: Determine $\\textrm{Var}(X)$. "
   ]
  },
  {
   "cell_type": "code",
   "execution_count": null,
   "metadata": {
    "collapsed": true
   },
   "outputs": [],
   "source": []
  },
  {
   "cell_type": "markdown",
   "metadata": {},
   "source": [
    "### Exercise 3  \n",
    "*** \n",
    "\n",
    "For a certain random variable $X$ it is known that $E[X] = 4$ and $\\textrm{Var}(X) = 2$ \n",
    "\n",
    "**Part A**: Compute $E[X^2]$\n"
   ]
  },
  {
   "cell_type": "code",
   "execution_count": null,
   "metadata": {
    "collapsed": true
   },
   "outputs": [],
   "source": []
  },
  {
   "cell_type": "markdown",
   "metadata": {},
   "source": [
    "**Part D**: Determine the expectation and variance for the random variable $Y = 1 - 2X$. "
   ]
  },
  {
   "cell_type": "code",
   "execution_count": null,
   "metadata": {
    "collapsed": true
   },
   "outputs": [],
   "source": []
  },
  {
   "cell_type": "markdown",
   "metadata": {},
   "source": [
    "**Part C**: Can you think of a discrete random variable that satisfies $E[X] = 4$ and $\\textrm{Var}(X) = 2$? "
   ]
  },
  {
   "cell_type": "code",
   "execution_count": null,
   "metadata": {
    "collapsed": true
   },
   "outputs": [],
   "source": []
  },
  {
   "cell_type": "markdown",
   "metadata": {},
   "source": [
    "**Part D**: Create a series of simple simulations that verify the computations you did in **Parts A-C**. "
   ]
  },
  {
   "cell_type": "code",
   "execution_count": null,
   "metadata": {
    "collapsed": true
   },
   "outputs": [],
   "source": []
  },
  {
   "cell_type": "markdown",
   "metadata": {},
   "source": [
    "### Exercise 4  \n",
    "*** \n",
    "\n",
    "Let $X$ be a continuous random variable with probability density function given by \n",
    "\n",
    "$$\n",
    "f(x) = \\left\\{ \n",
    "\\begin{array}{rl}\n",
    "\\dfrac{x}{2} & 0 \\leq x \\leq 2 \\\\\n",
    "0 & \\textrm{otherwise}\n",
    "\\end{array}\n",
    "\\right.\n",
    "$$\n",
    "\n",
    "**Part A**: Compute $E[X]$. Before you do the computation, will the expected value lie closer to 0 than 2, or the other way around? \n"
   ]
  },
  {
   "cell_type": "code",
   "execution_count": null,
   "metadata": {
    "collapsed": true
   },
   "outputs": [],
   "source": []
  },
  {
   "cell_type": "markdown",
   "metadata": {},
   "source": [
    "**Part B**: Compute $\\textrm{Var}(X)$. "
   ]
  },
  {
   "cell_type": "code",
   "execution_count": null,
   "metadata": {
    "collapsed": true
   },
   "outputs": [],
   "source": []
  },
  {
   "cell_type": "markdown",
   "metadata": {},
   "source": [
    "**Part C**: Use your results from **Part A** to compute the expectation and variance of the random variable $Y = 2X + 3$. "
   ]
  },
  {
   "cell_type": "code",
   "execution_count": null,
   "metadata": {
    "collapsed": true
   },
   "outputs": [],
   "source": []
  }
 ],
 "metadata": {
  "kernelspec": {
   "display_name": "Python 3",
   "language": "python",
   "name": "python3"
  },
  "language_info": {
   "codemirror_mode": {
    "name": "ipython",
    "version": 3
   },
   "file_extension": ".py",
   "mimetype": "text/x-python",
   "name": "python",
   "nbconvert_exporter": "python",
   "pygments_lexer": "ipython3",
   "version": "3.6.1"
  }
 },
 "nbformat": 4,
 "nbformat_minor": 2
}
