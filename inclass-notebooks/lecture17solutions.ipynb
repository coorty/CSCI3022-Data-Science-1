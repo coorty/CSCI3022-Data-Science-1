{
 "cells": [
  {
   "cell_type": "markdown",
   "metadata": {},
   "source": [
    "# Lecture 17: Introduction to Hypothesis Testing \n",
    "***\n",
    "\n",
    "We'll need Numpy, Matplotlib, and scipy.stats for this notebook, so let's load them. "
   ]
  },
  {
   "cell_type": "code",
   "execution_count": 2,
   "metadata": {
    "collapsed": true
   },
   "outputs": [],
   "source": [
    "import numpy as np \n",
    "from scipy import stats\n",
    "import matplotlib.pylab as plt \n",
    "%matplotlib inline"
   ]
  },
  {
   "cell_type": "markdown",
   "metadata": {},
   "source": [
    "### Exercise 1 - Detecting Clairvoyants \n",
    "*** \n",
    "\n",
    "Graduate students in CU's little-known Parapsychology Department are conducting an experiment to test for clairvoyant abilities in CU's undergraduate population.  Their experiment involves drawing a card randomly from a standard deck, showing the student the back of the card, and asking them to predict whether the card is black or red. They repeat this test 100 times and record the number of cards that the student gets correct.  They've just finished testing a particularly enthusiastic student named Gandalf (his real name is Lawrence, but he insists that people call him Gandalf) who is quite adamant that he has psychic abilities. \n",
    "\n",
    "**Part A**: Let $p$ be the proportion of cards that the population gets correct.  Write down the Null hypothesis $H_0$ and alternate hypothesis $H_1$ that can be employed to test whether Gandalf is clairvoyant or not. "
   ]
  },
  {
   "cell_type": "markdown",
   "metadata": {},
   "source": [
    "**Solution**: Since a non-psychic person should get a proportion of $p = \\frac{1}{2}$ of the 100 cards correct on average, we'll use this as our Null hypothesis.  A clairvoyant person, we would expect, would get a higher proportion of the cards correct.  Thus, we have \n",
    "\n",
    "\\begin{array}{rl}\n",
    "H_0: & p = \\frac{1}{2} \\\\\n",
    "H_1: & p > \\frac{1}{2} \\\\\n",
    "\\end{array}"
   ]
  },
  {
   "cell_type": "markdown",
   "metadata": {},
   "source": [
    "**Part B**: There are four possibilities for the results of the test: \n",
    "\n",
    "$\\textrm{1.}$ The test indicates that Gandalf is clairvoyant, but in reality he is not clairvoyant \n",
    "\n",
    "$\\textrm{2.}$ The test indicates that Gandalf is clairvoyant, and in reality he is clairvoyant \n",
    "\n",
    "$\\textrm{3.}$ The test indicates that Gandalf is not clairvoyant, and in reality he is not clairvoyant \n",
    "\n",
    "$\\textrm{4.}$ The test indicates that Gandalf is not clairvoyant, and in reality he is clairvoyant \n",
    "\n",
    "**Match** each of the cases with the following: \n",
    "\n",
    "a. We correctly fail to reject the Null hypothesis  \n",
    "\n",
    "b. We correctly reject the Null hypothesis \n",
    "\n",
    "c. We commit a Type I Error \n",
    "\n",
    "d. We commit a Type II Error "
   ]
  },
  {
   "cell_type": "markdown",
   "metadata": {},
   "source": [
    "**Solution**: \n",
    "\n",
    "$(1, c)$ Indicating that Gandalf is clairvoyant when in reality he is not would be a false positive, which is a Type I Error \n",
    "\n",
    "$(2, b)$ Indicating that Gandalf is clairvoyant when in reality he is would mean that we correctly reject the Null hypothesis \n",
    "\n",
    "$(3, a)$ Indicating that Gandalf is not clairvoyant when in reality he is not would mean that we correctly fail to reject the Null hypothesis \n",
    "\n",
    "$(4, d)$ Indicating that Gandalf is not clairvoyant when in reality he is would mean that we incorrectly fail to reject the Null hypothesis, which is a Type II Error  "
   ]
  },
  {
   "cell_type": "markdown",
   "metadata": {},
   "source": [
    "**Part C**: Suppose we want to perform a hypothesis test at significance level $\\alpha$. Describe the test that we should perform in terms of a critical value of the standard unit normal. "
   ]
  },
  {
   "cell_type": "markdown",
   "metadata": {},
   "source": [
    "**Solution**: Since our alternative hypothesis is $p > \\frac{1}{2}$ this is a upper single-tailed test.  Thus our critical value is $z_{\\alpha}$ which we can get from stats.norm.ppf.  Our test will be to transform the test statistic to a standard unit normal value $z$ and test $z > z_\\alpha$. If the condition is satisfied then we will reject the Null hypothesis that Gandalf is not clairvoyant. "
   ]
  },
  {
   "cell_type": "markdown",
   "metadata": {},
   "source": [
    "**Part D**: In Gandalf's test he correctly guessed the color of 60 of the 100 cards.  Prior to starting the experiment, one of the Grad students suggested performing hypothesis tests at the $\\alpha = 0.05$ significance level (but was eventually outvoted in favor of a stricter test).  Suppose that we performed the hypothesis test you described in **Part C** at the $\\alpha = 0.05$ significance level. Would the test indicate that Gandalf likely is or is not clairvoyant?  "
   ]
  },
  {
   "cell_type": "markdown",
   "metadata": {},
   "source": [
    "**Solution**: We have $\\hat{p} = \\frac{60}{100} = 0.6$.  We now need to transform this test statistic to a standard unit normal value.  Under our Null hypothesis, we assume that the sampling distribution is normal and of the form \n",
    "\n",
    "$$\n",
    "N\\left(p, \\frac{p(1-p)}{n}\\right) = N\\left(\\frac{1}{2}, \\frac{1/4}{100}\\right) = N(0.5, 0.0025)\n",
    "$$\n",
    "\n",
    "Transforming $\\hat{p}$ to a standard unit normal variable gives \n",
    "\n",
    "$$\n",
    "z = \\frac{0.6 - 0.5}{\\sqrt{.0025}} = 2  \n",
    "$$\n",
    "\n",
    "We then compare $z = 2$ to the critical value associated with $\\alpha = 0.05$, which is $z_{.05} = 1.64$ for an upper-tailed test. \n",
    "\n",
    "Then, since $z = 2 > 1.64 = z_{.05}$ we conclude that there is sufficient evidence at the $\\alpha = 0.05$ significance level to reject the Null hypothesis and conclude that Gandalf is in fact clairvoyant. "
   ]
  },
  {
   "cell_type": "code",
   "execution_count": 8,
   "metadata": {},
   "outputs": [
    {
     "data": {
      "text/plain": [
       "1.6448536269514722"
      ]
     },
     "execution_count": 8,
     "metadata": {},
     "output_type": "execute_result"
    }
   ],
   "source": [
    "stats.norm.ppf(0.95)"
   ]
  },
  {
   "cell_type": "markdown",
   "metadata": {},
   "source": [
    "**Part E**: Remember that it is important to consider the costs associated with rejecting the Null hypothesis when setting the significance level.  Since the Grad students knew that Lawrence would become even more insufferable if it is confirmed that he is clairvoyant, they decided that they should perform hypothesis tests at the $\\alpha = 0.01$ significance level. Redo the test from **Part D** at this significance level. "
   ]
  },
  {
   "cell_type": "markdown",
   "metadata": {},
   "source": [
    "**Solution**: The majority of the work we performed in **Part D** can be reused.  The only thing that we need to change is the critical value that we use in the final comparison.  At the $\\alpha = 0.01$ significance level we should use the critical value $z_{.01} = 2.33$.  \n",
    "\n",
    "At this significance level we have $z = 2 < 2.33 = z_{.01}$, so we conclude that there is not enough evidence to reject the Null hypothesis, and therefore conclude that the evidence does not support Gandalf's proclaimed clairvoyance. "
   ]
  },
  {
   "cell_type": "code",
   "execution_count": 5,
   "metadata": {},
   "outputs": [
    {
     "data": {
      "text/plain": [
       "2.3263478740408408"
      ]
     },
     "execution_count": 5,
     "metadata": {},
     "output_type": "execute_result"
    }
   ],
   "source": [
    "stats.norm.ppf(0.99)"
   ]
  },
  {
   "cell_type": "markdown",
   "metadata": {},
   "source": [
    "**Part F**: Determine the fewest number of cards that a test subject must get correct in order to reject the null hypothesis at the $\\alpha = 0.01$ significance level. "
   ]
  },
  {
   "cell_type": "markdown",
   "metadata": {},
   "source": [
    "**Solution**: At the $\\alpha = 0.01$ significance level we require that the standardized test statistic $z$ must satisfy $z > 2.33$.  We then require that \n",
    "\n",
    "$$\n",
    "z = \\frac{\\hat{p} - 0.5}{\\sqrt{.0025}} > 2.33 \n",
    "\\quad \\Rightarrow \\quad \\hat{p} > 0.5 + 2.33 \\times \\sqrt{.0025} = 0.6165 \n",
    "\\quad \\Rightarrow \\quad \\hat{p} = 0.62 \n",
    "$$"
   ]
  },
  {
   "cell_type": "markdown",
   "metadata": {},
   "source": [
    "Thus we conclude that at the $\\alpha = 0.01$ significance level, a subject would have to get $62$ or more cards correct in order to have enough evidence to reject the Null hypothesis. "
   ]
  },
  {
   "cell_type": "markdown",
   "metadata": {},
   "source": [
    "### Exercise 2 -  Life Expectancy of the 1999 Volkswagen Jetta \n",
    "*** \n",
    "\n",
    "The 1999 Volkswagen Jetta was one of the first Volkswagen models produced both in Germany and Mexico. Over the course of the next two decades, extensive data was collected on the life expectancy of the Jettas produced in Germany, and they were found to follow a normal distribution with mean $300$ thousand miles and standard deviation $100$ thousand miles.  Less data has been collected on the life expectancy of 1999 Jettas made in Mexico.  But, we have a small sample of $1000$ reports on the life expectancy of models made in Mexico, the sample mean of which was $200$ thousand miles.  \n",
    "\n",
    "**Part A**: Write down a Null hypothesis and alternative hypothesis to test the claim that there is statistical evidence that 1999 Jettas made in Mexico have a smaller life expectancy that those made in Germany. "
   ]
  },
  {
   "cell_type": "markdown",
   "metadata": {
    "collapsed": true
   },
   "source": [
    "**Solution**: Let $\\mu$ be the mean life expectancy of a Jetta made in Mexico.  Then \n",
    "\n",
    "$$\n",
    "\\begin{array}{l}\n",
    "H_0: \\mu = 300  \\\\\n",
    "H_1: \\mu < 300  \\\\\n",
    "\\end{array}\n",
    "$$"
   ]
  },
  {
   "cell_type": "markdown",
   "metadata": {},
   "source": [
    "**Part B**: Suppose we test the alternative hypothesis at the $\\alpha = 0.01$ significance level.  Describe the details of the test to be performed. "
   ]
  },
  {
   "cell_type": "markdown",
   "metadata": {
    "collapsed": true
   },
   "source": [
    "**Solution**: \n",
    "\n",
    "1. Convert the sample mean the standard normal test statistics $z$\n",
    "2. Compute the one-sided critical value $-z_\\alpha = -z_{.01}$ \n",
    "3. Test $z < -z_\\alpha$ \n",
    "4. Reject or fail to reject $H_0$ accordingly "
   ]
  },
  {
   "cell_type": "markdown",
   "metadata": {},
   "source": [
    "**Part C**: Carry out the test described above.  Is there sufficient evidence to conclude that, in fact, 1999 Jettas made in Mexico have a shorter life expectancy that those made in Germany? "
   ]
  },
  {
   "cell_type": "markdown",
   "metadata": {
    "collapsed": true
   },
   "source": [
    "**Solution**: We have \n",
    "\n",
    "$$\n",
    "z = \\frac{200-300}{100/\\sqrt{1000}} = -31.62\n",
    "$$\n",
    "\n",
    "and \n",
    "\n",
    "$$\n",
    "-z_{0.01} = -\\texttt{stats.norm.ppf(0.99)}= -2.33 \n",
    "$$\n",
    "\n",
    "Then since $-31.62 < -2.33$ we reject the null hypothesis and conclude that there is sufficient evidence to believe, at the 1% significance level, that the mean life expectancy of Jettas made in Mexico is less than that of Jettas made in Germany. "
   ]
  },
  {
   "cell_type": "code",
   "execution_count": 5,
   "metadata": {},
   "outputs": [
    {
     "name": "stdout",
     "output_type": "stream",
     "text": [
      "z =  -31.6227766017\n",
      "-za =  -2.32634787404\n"
     ]
    }
   ],
   "source": [
    "z = (200-300)/(100/np.sqrt(1000))\n",
    "print(\"z = \", z)\n",
    "za = stats.norm.ppf(0.99)\n",
    "print(\"-za = \", -za)"
   ]
  },
  {
   "cell_type": "markdown",
   "metadata": {},
   "source": [
    "### Exercise 3 - Investigating the Type I Error Rate vs Significance Level \n",
    "*** \n",
    "\n",
    "Let's investigate the frequency with which we get Type I Errors in a two-tailed hypothesis test relative to the significance level $\\alpha$.  For this experiment, we'll use the Poisson distribution with parameter $\\lambda_0$ as the true model of our population.  Recall that if $X \\sim Pois(\\lambda_0)$ then $E[X] = \\lambda_0$ and $\\textrm{Var}(X) = \\lambda_0$.  If we draw a sample and compute its sample mean, we might ask, is there sufficient evidence to conclude that our population has a different mean than our sample by proposing the following hypotheses: \n",
    "\n",
    "$$\n",
    "H_0: \\lambda = \\lambda_0 \\\\ \n",
    "H_1: \\lambda \\neq\\lambda_0 \\\\ \n",
    "$$\n",
    "\n",
    "Complete the function check_error_rate that takes in a large ($> 30$) integer $n$ indicating the sample size and the true mean of the population $\\lambda_0$.  Your function should generate many random samples from $Pois(\\lambda)$ and, for each sample mean, perform a two-tailed hypothesis test and keep track of the number of times the Null hypothesis is (incorrectly) rejected.  "
   ]
  },
  {
   "cell_type": "markdown",
   "metadata": {},
   "source": [
    "**Solution**: One implementation is as follows: "
   ]
  },
  {
   "cell_type": "code",
   "execution_count": 6,
   "metadata": {},
   "outputs": [
    {
     "name": "stdout",
     "output_type": "stream",
     "text": [
      "Type I Error Rate: 0.0555\n"
     ]
    }
   ],
   "source": [
    "def check_error_rate(n, lam0, alpha=0.05, num_tests=1000):\n",
    "    \n",
    "    ctr = 0\n",
    "    zao2 = stats.norm.ppf(1-alpha/2)\n",
    "    \n",
    "    for ii in range(num_tests):\n",
    "        x = np.random.poisson(lam0, size=n)\n",
    "        xbar = np.mean(x)\n",
    "        z = (xbar-lam0)/(np.sqrt(lam0/n))\n",
    "        if (z > zao2) or (z < -zao2):\n",
    "            ctr += 1 \n",
    "            \n",
    "    print(\"Type I Error Rate: {:.4f}\".format(ctr/num_tests))\n",
    "    \n",
    "check_error_rate(500, 10, alpha=0.05, num_tests=10000)"
   ]
  },
  {
   "cell_type": "markdown",
   "metadata": {
    "collapsed": true
   },
   "source": [
    "It looks like, when the null hypothesis is true, we're incorrectly rejecting the null about 5% of the time when the test is performed at the 5% significance level.  This is precisely what our theory predicts so this is good! "
   ]
  },
  {
   "cell_type": "code",
   "execution_count": null,
   "metadata": {
    "collapsed": true
   },
   "outputs": [],
   "source": []
  }
 ],
 "metadata": {
  "kernelspec": {
   "display_name": "Python 3",
   "language": "python",
   "name": "python3"
  },
  "language_info": {
   "codemirror_mode": {
    "name": "ipython",
    "version": 3
   },
   "file_extension": ".py",
   "mimetype": "text/x-python",
   "name": "python",
   "nbconvert_exporter": "python",
   "pygments_lexer": "ipython3",
   "version": "3.6.1"
  }
 },
 "nbformat": 4,
 "nbformat_minor": 2
}
