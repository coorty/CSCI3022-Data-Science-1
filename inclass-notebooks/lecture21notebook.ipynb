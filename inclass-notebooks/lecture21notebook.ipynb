{
 "cells": [
  {
   "cell_type": "markdown",
   "metadata": {},
   "source": [
    "# Lecture 21: Inference in Simple Linear Regression\n",
    "***\n",
    "\n",
    "We'll need Numpy, Matplotlib, Pandas, and scipy.stats for this notebook, so let's load them. "
   ]
  },
  {
   "cell_type": "code",
   "execution_count": null,
   "metadata": {
    "collapsed": true
   },
   "outputs": [],
   "source": [
    "import numpy as np \n",
    "from scipy import stats\n",
    "import pandas as pd\n",
    "import matplotlib.pylab as plt \n",
    "%matplotlib inline"
   ]
  },
  {
   "cell_type": "markdown",
   "metadata": {},
   "source": [
    "### Exercise 1 - Calcium and Mortality Rate \n",
    "*** \n",
    "\n",
    "Is calcium in your drinking water good for your health? In England and Wales, an investigation of environmental causes of disease was conducted. The annual mortality rate (percentage of deaths) and the calcium concentration in the drinking water supply were recorded for $61$ large towns. The data in mortality.csv represent the annual mortality rate averaged over the years 1958–1964, and the calcium concentration in parts per million. \n",
    "\n",
    "**Part A**: Load the data in Pandas and make a scatter plot with the calcium concentration as the feature on the horizontal axis and mortality rate as the response on the vertical axis. "
   ]
  },
  {
   "cell_type": "code",
   "execution_count": null,
   "metadata": {},
   "outputs": [],
   "source": [
    "dfMort = pd.read_csv(\"data/mortality.csv\")\n",
    "fig, ax = plt.subplots(nrows=1, ncols=1, figsize=(8,5))\n",
    "ax.scatter(dfM[\"Calc\"], dfM[\"Rate\"], color=\"steelblue\")\n",
    "ax.set_ylim([0,3]);\n",
    "plt.xticks(range(0,150,20), fontsize=12)\n",
    "plt.yticks(np.linspace(0,3,7), fontsize=12);\n",
    "ax.set_xlabel(\"Calcium concentration (ppm)\", fontsize=16)\n",
    "ax.set_ylabel(\"Mortality rate (%)\", fontsize=16);"
   ]
  },
  {
   "cell_type": "markdown",
   "metadata": {},
   "source": [
    "The scatterplot shows a slight downward trend, which suggests that higher concentrations of calcium lead to lower mortality rates. The question is whether this is really the case or if the slight downward trend should be attributed to chance."
   ]
  },
  {
   "cell_type": "markdown",
   "metadata": {},
   "source": [
    "**Part B**: Use [stats.linregress](https://docs.scipy.org/doc/scipy-0.14.0/reference/generated/scipy.stats.linregress.html) to fit a linear regression model to the data of the form \n",
    "\n",
    "$$\n",
    "Y_i = \\alpha + \\beta x_i + \\epsilon_i, \\quad \\textrm{for } i=1,2, \\ldots, 61 \n",
    "$$\n",
    "\n",
    "where $\\epsilon \\sim N(0,\\sigma^2)$. In addition to the estimates of the model parameters, report the values of pval and stderr returned by stats.linregress.  "
   ]
  },
  {
   "cell_type": "code",
   "execution_count": null,
   "metadata": {
    "collapsed": true
   },
   "outputs": [],
   "source": []
  },
  {
   "cell_type": "markdown",
   "metadata": {},
   "source": [
    "**Part C**: The p-value and standard error returned by stats.linregress are associated with the slope coefficient $\\beta$.  Compute the estimated variance $\\hat{\\sigma}^2$ and the standard error $SE(\\hat{\\beta})$ directly in Python.  Verify that your computed value for the standard error matches that returned by stats.linregress. "
   ]
  },
  {
   "cell_type": "code",
   "execution_count": null,
   "metadata": {
    "collapsed": true
   },
   "outputs": [],
   "source": []
  },
  {
   "cell_type": "markdown",
   "metadata": {},
   "source": [
    "**Part D**: Perform a hypothesis test at the $\\alpha = 0.05$ significance level to determine if the observed relationship between calcium concentration and mortality rate is real by testing the hypotheses: \n",
    "\n",
    "$$\n",
    "H_0: \\beta = 0 \\\\\n",
    "H_1: \\beta \\neq 0 \n",
    "$$\n",
    "\n",
    "Verify that your direct computations yield the same p-value returned by stats.linregress. Is there sufficient evidence to conclude that the observed relationship between calcium concentration and mortality rate is real? \n"
   ]
  },
  {
   "cell_type": "code",
   "execution_count": null,
   "metadata": {
    "collapsed": true
   },
   "outputs": [],
   "source": []
  },
  {
   "cell_type": "markdown",
   "metadata": {},
   "source": [
    "### Exercise 2 - Variability of Slope in a Simple Linear Regression \n",
    "*** \n",
    "\n",
    "The function sim_data returns simulated data from the generative model $Y = 1 + 2x + \\epsilon$ where $\\epsilon \\sim N(0, \\sigma^2)$. In this exercise we'll look at the variability of the slope of the simple linear regression model fitted to realizations of the simulated data. "
   ]
  },
  {
   "cell_type": "code",
   "execution_count": null,
   "metadata": {
    "collapsed": true
   },
   "outputs": [],
   "source": [
    "def sim_data(n=20, sig=1, a=1, b=2):\n",
    "    x = np.linspace(0,2,n)\n",
    "    y = a + b*x + stats.norm.rvs(0, sig, size=n)\n",
    "    return x, y "
   ]
  },
  {
   "cell_type": "markdown",
   "metadata": {},
   "source": [
    "**Part A**: Execute the following code to sample from the generative model, fit a simple linear regression model, and plot the results. "
   ]
  },
  {
   "cell_type": "code",
   "execution_count": null,
   "metadata": {
    "scrolled": true
   },
   "outputs": [],
   "source": [
    "x, y = sim_data(n=20, sig=1, a=1, b=2)\n",
    "fig, ax = plt.subplots(nrows=1, ncols=1, figsize=(8,5))\n",
    "ax.scatter(x, y, color=\"steelblue\", alpha=0.75, s=100)\n",
    "bhat, ahat, rval, pval, stderr = stats.linregress(x, y)\n",
    "ax.plot(x, ahat + bhat*x, color=\"steelblue\", lw=3);\n",
    "plt.xticks(np.linspace(0,2,5));"
   ]
  },
  {
   "cell_type": "markdown",
   "metadata": {},
   "source": [
    "**Part B**: The following function computes 50 independent realizations of the model data and computes and plots the resulting simple linear regression.  We're interested in how the parameter $\\sigma$ in the generative model affects the variability of the **slope** of the regression line.  Experiment with several variances and describe the results. "
   ]
  },
  {
   "cell_type": "code",
   "execution_count": null,
   "metadata": {},
   "outputs": [],
   "source": [
    "def variability(n=20, sig=1):\n",
    "    fig, ax = plt.subplots(nrows=1, ncols=1, figsize=(8,5))\n",
    "    for ii in range(50):\n",
    "        x, y = sim_data(n=n, sig=sig, a=1, b=2)\n",
    "        bhat, ahat, rval, pval, stderr = stats.linregress(x, y)\n",
    "        yhat = ahat + bhat*x\n",
    "        ax.plot(x, yhat, color=\"steelblue\", lw=2, alpha=0.2)\n",
    "    plt.xticks(np.linspace(0,2,5))\n",
    "\n",
    "variability(n=20, sig=1)"
   ]
  },
  {
   "cell_type": "markdown",
   "metadata": {},
   "source": [
    "**Part C**: The following function computes num_samples independent realizations of the model data, computes the simple linear regression model, and histograms the resulting slopes. Experiment with different variances for the generative model. What do you notice about the resulting histograms?  "
   ]
  },
  {
   "cell_type": "code",
   "execution_count": null,
   "metadata": {},
   "outputs": [],
   "source": [
    "def slope_hist(n=20, sig=1, num_samples=500):\n",
    "    \n",
    "    slopes = np.zeros(num_samples)\n",
    "    for ii in range(num_samples):\n",
    "        x, y = sim_data(n=n, sig=sig, a=1, b=2)\n",
    "        bhat, ahat, rval, pval, stderr = stats.linregress(x, y)\n",
    "        slopes[ii] = bhat \n",
    "        \n",
    "    fig, ax = plt.subplots(nrows=1, ncols=1, figsize=(8,5))\n",
    "    pd.Series(slopes).hist(ax=ax, color=\"steelblue\", edgecolor=\"white\", bins=15)\n",
    "    ax.grid(alpha=0.25)\n",
    "    ax.set_axisbelow(True)\n",
    "    \n",
    "slope_hist(sig=1)"
   ]
  },
  {
   "cell_type": "markdown",
   "metadata": {},
   "source": [
    "**Part D**: Draw a single sample of size $n=20$ from sim_data with variance $\\sigma^2 = 1$.  Use your sample to compute a 95% confidence interval for the slope.  Does the known slope from the model fall inside your confidence interval?  How does the variance $\\sigma^2$ affect your 95% confidence interval? "
   ]
  },
  {
   "cell_type": "code",
   "execution_count": null,
   "metadata": {},
   "outputs": [],
   "source": [
    "np.random.seed(1234)\n",
    "x, y = sim_data(n=20, sig=1)\n",
    "bhat, ahat, rval, pval, stderr = stats.linregress(x, y)\n",
    "CI = # TODO "
   ]
  },
  {
   "cell_type": "markdown",
   "metadata": {},
   "source": [
    "### Exercise 3 - The Coefficient of Determination and Goodness of Fit \n",
    "*** \n",
    "\n",
    "**Part A**: Complete the function R2 below to generate a sample from sim_data, compute a simple linear regression using stats.linregress, plot the resulting model and scatter plot, and return the $R^2$ value for the given fit.  How does the choice of $\\sigma^2$ affect the $R^2$ value? "
   ]
  },
  {
   "cell_type": "code",
   "execution_count": null,
   "metadata": {
    "collapsed": true
   },
   "outputs": [],
   "source": [
    "def R2_sim(n=40, sig=1):\n",
    "\n",
    "    x, y = sim_data(n=40, sig=sig, a=1, b=2)\n",
    "    fig, ax = plt.subplots(nrows=1, ncols=1, figsize=(8,5))\n",
    "    ax.scatter(x, y, color=\"steelblue\", alpha=0.75, s=100)\n",
    "    bhat, ahat, rval, pval, stderr = stats.linregress(x, y)\n",
    "    ax.plot(x, ahat + bhat*x, color=\"steelblue\", lw=3);\n",
    "    plt.xticks(np.linspace(0,2,5));\n",
    "\n",
    "    yhat = # TODO \n",
    "    SSE  = # TODO \n",
    "    SSR  = # TODO \n",
    "    SST  = # TODO \n",
    "    R2 = #TODO \n",
    "    \n",
    "    return R2"
   ]
  },
  {
   "cell_type": "code",
   "execution_count": null,
   "metadata": {},
   "outputs": [],
   "source": [
    "R2_sim(n=40, sig=1)"
   ]
  },
  {
   "cell_type": "markdown",
   "metadata": {},
   "source": [
    "**Part B**: The $R^2$ value is actually reported (sorta) by stats.linregress through the rval quantity.  The relationship is $R^2 = (\\textrm{rval})^2$.  Verify that your computed $R^2$ value above agrees with the value returned by stats.linregress. "
   ]
  },
  {
   "cell_type": "code",
   "execution_count": null,
   "metadata": {
    "collapsed": true
   },
   "outputs": [],
   "source": []
  }
 ],
 "metadata": {
  "kernelspec": {
   "display_name": "Python 3",
   "language": "python",
   "name": "python3"
  },
  "language_info": {
   "codemirror_mode": {
    "name": "ipython",
    "version": 3
   },
   "file_extension": ".py",
   "mimetype": "text/x-python",
   "name": "python",
   "nbconvert_exporter": "python",
   "pygments_lexer": "ipython3",
   "version": "3.6.1"
  }
 },
 "nbformat": 4,
 "nbformat_minor": 2
}
